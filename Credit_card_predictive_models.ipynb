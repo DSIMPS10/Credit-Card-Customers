{
 "cells": [
  {
   "cell_type": "markdown",
   "metadata": {
    "hide_input": true
   },
   "source": [
    "# Importing "
   ]
  },
  {
   "cell_type": "code",
   "execution_count": 1,
   "metadata": {
    "ExecuteTime": {
     "end_time": "2023-07-11T13:39:09.212011Z",
     "start_time": "2023-07-11T13:39:09.194158Z"
    },
    "hide_input": true
   },
   "outputs": [
    {
     "data": {
      "text/html": [
       "<script>\n",
       "code_show=true; \n",
       "function code_toggle() {\n",
       " if (code_show){\n",
       " $('div.input').hide();\n",
       " } else {\n",
       " $('div.input').show();\n",
       " }\n",
       " code_show = !code_show\n",
       "} \n",
       "$( document ).ready(code_toggle);\n",
       "</script>\n",
       "<form action=\"javascript:code_toggle()\"><input type=\"submit\" value=\"Click here to toggle on/off the raw code.\"></form>"
      ],
      "text/plain": [
       "<IPython.core.display.HTML object>"
      ]
     },
     "execution_count": 1,
     "metadata": {},
     "output_type": "execute_result"
    }
   ],
   "source": [
    "from IPython.display import HTML\n",
    "\n",
    "HTML('''<script>\n",
    "code_show=true; \n",
    "function code_toggle() {\n",
    " if (code_show){\n",
    " $('div.input').hide();\n",
    " } else {\n",
    " $('div.input').show();\n",
    " }\n",
    " code_show = !code_show\n",
    "} \n",
    "$( document ).ready(code_toggle);\n",
    "</script>\n",
    "<form action=\"javascript:code_toggle()\"><input type=\"submit\" value=\"Click here to toggle on/off the raw code.\"></form>''')"
   ]
  },
  {
   "cell_type": "code",
   "execution_count": 2,
   "metadata": {
    "ExecuteTime": {
     "end_time": "2023-07-11T13:39:15.899059Z",
     "start_time": "2023-07-11T13:39:09.214003Z"
    },
    "code_folding": []
   },
   "outputs": [],
   "source": [
    "#imports\n",
    "#numpy,pandas,scipy, math, matplotlib\n",
    "import numpy as np\n",
    "import pandas as pd\n",
    "import scipy\n",
    "from math import sqrt\n",
    "import matplotlib.pyplot as plt\n",
    "from matplotlib import pyplot\n",
    "from numpy import where\n",
    "from sqlalchemy import create_engine\n",
    "import pymysql\n",
    "from matplotlib import pyplot as plt\n",
    "import plotly.express as px\n",
    "import ydata_profiling\n",
    "import seaborn as sns\n",
    "from scipy.stats import pearsonr\n",
    "import scipy.stats as stats\n",
    "import scipy as sp\n",
    "#estimators\n",
    "from sklearn.ensemble import RandomForestRegressor\n",
    "from sklearn.linear_model import LinearRegression\n",
    "from sklearn.svm import SVR\n",
    "from sklearn.ensemble import RandomForestClassifier, GradientBoostingClassifier\n",
    "from sklearn.tree import DecisionTreeClassifier, DecisionTreeRegressor\n",
    "from sklearn.metrics import accuracy_score, classification_report\n",
    "#model metrics\n",
    "from sklearn.metrics import mean_squared_error\n",
    "from sklearn.metrics import r2_score\n",
    "from sklearn.model_selection import cross_val_score\n",
    "from sklearn.datasets import make_classification\n",
    "from sklearn.metrics import confusion_matrix\n",
    "from sklearn.metrics import ConfusionMatrixDisplay\n",
    "#cross validation\n",
    "from sklearn.model_selection import train_test_split \n",
    "#Resampling\n",
    "import imblearn\n",
    "from collections import Counter\n",
    "from imblearn.over_sampling import SMOTE"
   ]
  },
  {
   "cell_type": "code",
   "execution_count": 3,
   "metadata": {
    "ExecuteTime": {
     "end_time": "2023-07-11T13:39:16.908814Z",
     "start_time": "2023-07-11T13:39:15.902765Z"
    }
   },
   "outputs": [],
   "source": [
    "connection = pymysql.connect(host='data-analytics-2018.cbrosir2cswx.us-east-1.rds.amazonaws.com', \n",
    "                             user='deepAnalytics',\n",
    "                            password = 'Sqltask1234!',\n",
    "                            database = 'Credit',\n",
    "                            charset = 'utf8mb4',\n",
    "                            cursorclass = pymysql.cursors.DictCursor)\n",
    "#Import df\n",
    "df = pd.read_sql('SELECT * FROM credit', con = connection)"
   ]
  },
  {
   "cell_type": "code",
   "execution_count": 4,
   "metadata": {
    "ExecuteTime": {
     "end_time": "2023-07-11T13:39:17.002111Z",
     "start_time": "2023-07-11T13:39:16.911354Z"
    }
   },
   "outputs": [],
   "source": [
    "# checking for duplicate rows\n",
    "df_dupes = df[df.duplicated()]\n",
    "\n",
    "#Dropping duplicate rows and removing row 0 which has column headings as data\n",
    "df_2 = df.drop_duplicates()\n",
    "df_2.columns = df_2.iloc[0]\n",
    "df_3 = df_2.drop([0])\n",
    "\n",
    "#Changing strings to integer values for Default\n",
    "df_3[\"default payment next month\"] = df_3[\"default payment next month\"].replace({\"default\": 1,\n",
    "                              \"not default\": 0})\n",
    "\n",
    "#Categorising columns for box plot use.\n",
    "df_3['MARRIAGE'] = df_3['MARRIAGE'].replace({str(1): 'married', str(2): 'single', str(3) :'divorce', str(0):'others'})\n",
    "\n",
    "#Changing the varible types for the columns\n",
    "cols_float = ['BILL_AMT1','BILL_AMT2','BILL_AMT3','BILL_AMT4', 'BILL_AMT5', 'BILL_AMT6', 'BILL_AMT6','PAY_AMT1', 'PAY_AMT2','PAY_AMT3','PAY_AMT4','PAY_AMT5','PAY_AMT6']\n",
    "cols_int = ['LIMIT_BAL','AGE', 'PAY_0','PAY_2','PAY_3','PAY_4','PAY_5','PAY_6']\n",
    "cols_cat = ['SEX','MARRIAGE', 'EDUCATION']\n",
    "df_3[cols_float] = df_3[cols_float].astype(float)\n",
    "df_3[cols_int] = df_3[cols_int].astype(int)\n",
    "df_3['default payment next month'] = df_3['default payment next month'].astype(bool) \n",
    "df_3[cols_cat] = df_3[cols_cat].astype('category') "
   ]
  },
  {
   "cell_type": "markdown",
   "metadata": {},
   "source": [
    "Creating a new dataframe to categorise age into generations, and brackets for their credit limit. We can also split the dataset into two; for clients who have and have not defaulted to see what insights this can bring us."
   ]
  },
  {
   "cell_type": "code",
   "execution_count": 5,
   "metadata": {
    "ExecuteTime": {
     "end_time": "2023-07-11T13:39:17.048329Z",
     "start_time": "2023-07-11T13:39:17.003185Z"
    }
   },
   "outputs": [],
   "source": [
    "#Renaming DB\n",
    "credit = df_3.copy()\n",
    "\n",
    "#Creating a generation column\n",
    "credit['Generation'] = pd.cut(x = credit['AGE'], bins = [17,26,42,58,77,86], labels = ['Gen Z', 'Millennial', 'Gen X','Baby Boomer','The Silent Generation'])\n",
    "\n",
    "#Splitting dataset into default customers and non default customers\n",
    "credit_defaults = credit[credit['default payment next month'] == 1]\n",
    "credit_non_defaults = credit[credit['default payment next month'] == 0]\n",
    "\n",
    "#Splitting limit balance data into default and non-defaulting customers\n",
    "default_limit_bal = credit_defaults['LIMIT_BAL']\n",
    "non_default_limit_bal =credit_non_defaults['LIMIT_BAL']\n",
    "\n",
    "bin_labels_limit = ['10,000 - 29,999', '30,000 - 49,999','50,000 - 69,999', '70,000 - 99,999', \n",
    "                    '100,000 - 139,999', '140,000 - 179,999', '180,000 - 209,999', '210,000 - 259,999',\n",
    "                    '260,000 - 359,999', '360,000 - 1,000,000']\n",
    "credit['limit'] = pd.qcut(credit['LIMIT_BAL'],q=10,labels = bin_labels_limit)"
   ]
  },
  {
   "cell_type": "code",
   "execution_count": 6,
   "metadata": {
    "ExecuteTime": {
     "end_time": "2023-07-11T13:39:17.173101Z",
     "start_time": "2023-07-11T13:39:17.050750Z"
    }
   },
   "outputs": [],
   "source": [
    "#Creating a dictionary to relabel the numbers to categorys for easier understanding\n",
    "repayment_dict = {-2:'No consumption',\n",
    "                                                   -1:'Paid in full',\n",
    "                                                     0:'The use of revolving credit',\n",
    "                                                    1:'One month payment delay',\n",
    "                                                    2:'Two month payment delay',\n",
    "                                                    3:'Three month payment delay',\n",
    "                                                    4:'Four month payment delay',\n",
    "                                                    5:'Five month payment delay',\n",
    "                                                    6:'Six month payment delay',\n",
    "                                                    7:'Seven month payment delay',\n",
    "                                                    8: 'Eight month payment delay',\n",
    "                                                    9: 'Nine '}\n",
    "\n",
    "#Creating a new DF with columns renamed\n",
    "credit_new = credit.copy()\n",
    "\n",
    "#Renaming columns\n",
    "credit_new['Repayment September'] = credit_new['PAY_0'].replace(repayment_dict)\n",
    "credit_new['Repayment August'] = credit_new['PAY_2'].replace(repayment_dict)\n",
    "credit_new['Repayment July'] = credit_new['PAY_3'].replace(repayment_dict)\n",
    "credit_new['Repayment June'] = credit_new['PAY_4'].replace(repayment_dict)\n",
    "credit_new['Repayment May'] = credit_new['PAY_5'].replace(repayment_dict)\n",
    "credit_new['Repayment April'] = credit_new['PAY_6'].replace(repayment_dict)\n",
    "\n",
    "#Renaming columns\n",
    "credit_new['Bill September'] = credit_new['BILL_AMT1']\n",
    "credit_new['Bill August'] = credit_new['BILL_AMT2']\n",
    "credit_new['Bill July'] = credit_new['BILL_AMT3']\n",
    "credit_new['Bill June'] = credit_new['BILL_AMT4']\n",
    "credit_new['Bill May'] = credit_new['BILL_AMT5']\n",
    "credit_new['Bill April'] = credit_new['BILL_AMT6']\n",
    "\n",
    "#Renaming columns \n",
    "credit_new['Paid September'] = credit_new['PAY_AMT1']\n",
    "credit_new['Paid August'] = credit_new['PAY_AMT2']\n",
    "credit_new['Paid July'] = credit_new['PAY_AMT3']\n",
    "credit_new['Paid June'] = credit_new['PAY_AMT4']\n",
    "credit_new['Paid May'] = credit_new['PAY_AMT5']\n",
    "credit_new['Paid April'] = credit_new['PAY_AMT6']\n",
    "\n",
    "#Dropping old columns\n",
    "credit_new = credit_new.drop(columns =[ 'PAY_0', 'PAY_2','PAY_3', 'PAY_4', 'PAY_5', 'PAY_6','BILL_AMT1', 'BILL_AMT2','BILL_AMT3',\n",
    "                                       'BILL_AMT4','BILL_AMT5', 'BILL_AMT6', 'PAY_AMT1',\n",
    "                                      'PAY_AMT2', 'PAY_AMT3', 'PAY_AMT4', 'PAY_AMT5', 'PAY_AMT6'])\n",
    "#Default vs non default datasets\n",
    "credit_new_defaults = credit_new[credit_new['default payment next month'] == 1]\n",
    "credit_new_non_defaults = credit_new[credit_new['default payment next month'] == 0]\n",
    "\n",
    "#Work out the average repayment for each customer\n",
    "credit_new['Average monthly repayment'] = (credit_new['Paid April'] +credit_new['Paid May'] + credit_new['Paid June']+\n",
    "                                        credit_new['Paid July'] +credit_new['Paid August']  + credit_new['Paid September'])/6   \n",
    "\n",
    "#Work out the monthly consumption for each customer\n",
    "credit_new['April consumption'] = credit_new['Bill May'] - (credit_new['Bill April'] - credit_new['Paid May'])\n",
    "credit_new['May consumption'] = credit_new['Bill June'] - (credit_new['Bill May'] - credit_new['Paid June'])\n",
    "credit_new['June consumption'] = credit_new['Bill July'] - (credit_new['Bill June'] - credit_new['Paid July'])\n",
    "credit_new['July consumption'] = credit_new['Bill August'] - (credit_new['Bill July'] - credit_new['Paid August'])\n",
    "credit_new['August consumption'] = credit_new['Bill September'] - (credit_new['Bill August'] - credit_new['Paid September'])\n",
    "\n",
    "#Work out the average monthly consumption for each customer\n",
    "\n",
    "total_consump = (credit_new['April consumption']+credit_new['May consumption']+ credit_new['June consumption']+credit_new['July consumption']+\n",
    "                 credit_new['August consumption'])\n",
    "credit_new['Average monthly consumption'] = total_consump/5\n",
    "\n",
    "#Define a function to work out how long it will take a client to repay (if they can)\n",
    "\n",
    "def months_to_repay(bill, avg_repayment, avg_consump):\n",
    "    if avg_consump < 0:\n",
    "        return 'Negative consumption'\n",
    "    if avg_repayment > avg_consump >= 0:\n",
    "        return bill/(avg_repayment - avg_consump)\n",
    "    if avg_repayment == avg_consump:\n",
    "        return 'Repayment equal to consumption, need to reduce consumption or increase repayment'\n",
    "    if avg_repayment < avg_consump:\n",
    "        return 'Repayment less than consumption, need to reduce consumption or increase repayment'\n",
    "#Creating a list of all clients with negative consumption    \n",
    "neg_consumption = credit_new[credit_new['Average monthly consumption']< 0]\n",
    "\n",
    "#Formatting DF to get rid of clients with negative consumption (i.e paying back more than they are spending)\n",
    "credit_new = credit_new.merge(neg_consumption, how = 'left', indicator = True)\n",
    "credit_new = credit_new[credit_new['_merge'] == 'left_only']\n",
    "credit_new = credit_new.drop(columns = ['_merge'])\n",
    "\n",
    "#Working out how many months until a client can repay their bill\n",
    "credit_new['Months to repayment'] = credit_new.apply(lambda row: months_to_repay(row['Bill September'], row['Average monthly repayment'],row['Average monthly consumption']), axis=1)"
   ]
  },
  {
   "cell_type": "markdown",
   "metadata": {},
   "source": [
    "We have now worked out how long it would take a client to pay back their debts based on their average monthly consumption and average monthly repayment. We will now categorise the customers as to whether their debts are repayable (at their current rate) in the next 12 months."
   ]
  },
  {
   "cell_type": "code",
   "execution_count": 8,
   "metadata": {
    "ExecuteTime": {
     "end_time": "2023-07-11T13:39:17.235783Z",
     "start_time": "2023-07-11T13:39:17.207558Z"
    }
   },
   "outputs": [],
   "source": [
    "#change num months for repayment threshold, currently at 12 months\n",
    "payback_possible = []\n",
    "for num_months in credit_new['Months to repayment']:\n",
    "    if type(num_months) == int or type(num_months) == float :\n",
    "        if num_months <=12:\n",
    "            payback_possible.append(True)\n",
    "        if num_months >12:\n",
    "            payback_possible.append(False)\n",
    "    if type(num_months) == str:\n",
    "        payback_possible.append(False)\n",
    "credit_new['Payback possible'] = payback_possible \n",
    "\n",
    "#Creating seperate Datasets for clients who have been categorised as defaulting next month\n",
    "df_default = credit_new[credit_new['default payment next month'] == True]\n",
    "df_non_default = credit_new[credit_new['default payment next month'] == False]\n",
    "\n",
    "#Filting those clients that will default next month  on whether they can payback in 12 months\n",
    "df_default_payback_possible = df_default[df_default['Payback possible'] == True]\n",
    "df_default_payback_not_possible = df_default[df_default['Payback possible'] == False]"
   ]
  },
  {
   "cell_type": "markdown",
   "metadata": {},
   "source": [
    "# How to resolve solvency issue"
   ]
  },
  {
   "cell_type": "markdown",
   "metadata": {},
   "source": [
    "The below section will address how to resolve the short term issues the company faces, solvency.\n",
    "If the company continues as it is, it will become insolvent very quickly, here are our ideas to address this pressing issue."
   ]
  },
  {
   "cell_type": "markdown",
   "metadata": {},
   "source": [
    "## How to deal with defaulting customers"
   ]
  },
  {
   "cell_type": "markdown",
   "metadata": {},
   "source": [
    "### Customers who can pay back within 12 months at current consumption rates"
   ]
  },
  {
   "cell_type": "markdown",
   "metadata": {},
   "source": [
    "We have 63 clients who are defaulting but can payback their debts at their current consumption rate.\n",
    "Given these customers have defaulted, we can impose limit on their consumption which would reduce their debt quicker. This would clear $ 320K of debt."
   ]
  },
  {
   "cell_type": "code",
   "execution_count": 56,
   "metadata": {
    "ExecuteTime": {
     "end_time": "2023-07-11T13:57:09.328181Z",
     "start_time": "2023-07-11T13:57:09.312862Z"
    }
   },
   "outputs": [],
   "source": [
    "less_6_month_payback = df_default_payback_possible[df_default_payback_possible['Months to repayment'] < 6]\n",
    "more_6_month_payback = df_default_payback_possible[df_default_payback_possible['Months to repayment'] >= 6]"
   ]
  },
  {
   "cell_type": "code",
   "execution_count": 52,
   "metadata": {
    "ExecuteTime": {
     "end_time": "2023-07-11T13:51:58.254575Z",
     "start_time": "2023-07-11T13:51:58.243260Z"
    }
   },
   "outputs": [
    {
     "name": "stdout",
     "output_type": "stream",
     "text": [
      "There are 63 customers who can payback their debts in 12 months at current rates. They will clear $317555.0 of debt.\n"
     ]
    }
   ],
   "source": [
    "print(\"There are \" + str(df_default_payback_possible['Bill September'].count()) + \" customers who can payback their debts in 12 months at current rates. They will clear $\"+\n",
    "      str(df_default_payback_possible['Bill September'].sum()) + \" of debt.\")"
   ]
  },
  {
   "cell_type": "code",
   "execution_count": 55,
   "metadata": {
    "ExecuteTime": {
     "end_time": "2023-07-11T13:56:24.659491Z",
     "start_time": "2023-07-11T13:56:24.644668Z"
    }
   },
   "outputs": [
    {
     "name": "stdout",
     "output_type": "stream",
     "text": [
      "There are 42 customers who can payback their debts in less than 6 months at current rates. They will clear $47726.0 of debt.\n"
     ]
    }
   ],
   "source": [
    "print(\"There are \" + str(less_6_month_payback['Bill September'].count()) + \" customers who can payback their debts in less than 6 months at current rates. They will clear $\"+\n",
    "      str(less_6_month_payback['Bill September'].sum()) + \" of debt.\")"
   ]
  },
  {
   "cell_type": "code",
   "execution_count": 54,
   "metadata": {
    "ExecuteTime": {
     "end_time": "2023-07-11T13:55:51.019331Z",
     "start_time": "2023-07-11T13:55:51.005561Z"
    },
    "scrolled": true
   },
   "outputs": [
    {
     "name": "stdout",
     "output_type": "stream",
     "text": [
      "There are 21 customers who can payback their debts in more than 6 months at current rates. They will clear $269829.0 of debt.\n"
     ]
    }
   ],
   "source": [
    "print(\"There are \" + str(more_6_month_payback['Bill September'].count()) + \" customers who can payback their debts in more than 6 months at current rates. They will clear $\"+\n",
    "      str(more_6_month_payback['Bill September'].sum()) + \" of debt.\")"
   ]
  },
  {
   "cell_type": "markdown",
   "metadata": {},
   "source": [
    "### Customers who cannot pay back within 12 months at current consumption rate"
   ]
  },
  {
   "cell_type": "markdown",
   "metadata": {},
   "source": [
    "#### Changing consumption to 0"
   ]
  },
  {
   "cell_type": "markdown",
   "metadata": {},
   "source": [
    "Here we look into the 455 defaulting customers cannot payback their debts within 12 months.\n",
    "\n",
    "We explore a hypothetical scenario where we insist that the customers cannot spend any more many (consumption goes to 0), and they repay their debt at the same as their current monthly average.\n",
    "The total debt of this group is $26M."
   ]
  },
  {
   "cell_type": "code",
   "execution_count": 13,
   "metadata": {
    "ExecuteTime": {
     "end_time": "2023-07-11T13:39:17.345699Z",
     "start_time": "2023-07-11T13:39:17.330970Z"
    },
    "scrolled": true
   },
   "outputs": [
    {
     "data": {
      "text/plain": [
       "26260348.0"
      ]
     },
     "execution_count": 13,
     "metadata": {},
     "output_type": "execute_result"
    }
   ],
   "source": [
    "df_default_payback_not_possible['Bill September'].sum()"
   ]
  },
  {
   "cell_type": "code",
   "execution_count": 14,
   "metadata": {
    "ExecuteTime": {
     "end_time": "2023-07-11T13:39:17.376875Z",
     "start_time": "2023-07-11T13:39:17.346697Z"
    },
    "scrolled": true
   },
   "outputs": [
    {
     "name": "stderr",
     "output_type": "stream",
     "text": [
      "<ipython-input-14-802b5adddb91>:2: SettingWithCopyWarning: \n",
      "A value is trying to be set on a copy of a slice from a DataFrame.\n",
      "Try using .loc[row_indexer,col_indexer] = value instead\n",
      "\n",
      "See the caveats in the documentation: https://pandas.pydata.org/pandas-docs/stable/user_guide/indexing.html#returning-a-view-versus-a-copy\n",
      "  df_default_payback_not_possible['Months to repayment no consump']=df_default_payback_not_possible['Bill September']/df_default_payback_not_possible['Average monthly repayment']\n",
      "<ipython-input-14-802b5adddb91>:3: SettingWithCopyWarning: \n",
      "A value is trying to be set on a copy of a slice from a DataFrame.\n",
      "Try using .loc[row_indexer,col_indexer] = value instead\n",
      "\n",
      "See the caveats in the documentation: https://pandas.pydata.org/pandas-docs/stable/user_guide/indexing.html#returning-a-view-versus-a-copy\n",
      "  df_default_payback_not_possible['Months to repayment no consump'] = df_default_payback_not_possible['Months to repayment no consump'].fillna(0)\n",
      "C:\\Users\\domsi\\anaconda3\\lib\\site-packages\\pandas\\core\\series.py:4563: SettingWithCopyWarning: \n",
      "A value is trying to be set on a copy of a slice from a DataFrame\n",
      "\n",
      "See the caveats in the documentation: https://pandas.pydata.org/pandas-docs/stable/user_guide/indexing.html#returning-a-view-versus-a-copy\n",
      "  return super().replace(\n"
     ]
    }
   ],
   "source": [
    "#If we reduce consumption to 0 (put a ban on spending)\n",
    "df_default_payback_not_possible['Months to repayment no consump']=df_default_payback_not_possible['Bill September']/df_default_payback_not_possible['Average monthly repayment']\n",
    "df_default_payback_not_possible['Months to repayment no consump'] = df_default_payback_not_possible['Months to repayment no consump'].fillna(0)\n",
    "\n",
    "#Finding the largest number of months it will take to repay\n",
    "max_value = np.nanmax(df_default_payback_not_possible['Months to repayment no consump'][df_default_payback_not_possible['Months to repayment no consump'] != np.inf])\n",
    "\n",
    "#Replacing negative infinite values with 0 \n",
    "df_default_payback_not_possible['Months to repayment no consump'].replace(-np.inf, 0, inplace = True)\n",
    "#Replacing +infinite values with the max number\n",
    "df_default_payback_not_possible['Months to repayment no consump'].replace(np.inf, max_value, inplace = True)\n",
    "\n",
    "#Our list of clients who can and cant payback within 12 months\n",
    "less_12_month_payback_zero_consump = df_default_payback_not_possible[df_default_payback_not_possible['Months to repayment no consump'] < 12]\n",
    "more_12_month_payback_zero_consump = df_default_payback_not_possible[df_default_payback_not_possible['Months to repayment no consump'] >= 12]"
   ]
  },
  {
   "cell_type": "markdown",
   "metadata": {},
   "source": [
    "Out of the 455 original customers who could not pay back within 12 months at their current consumption rate, 171 customers would be able to payback within 12 months if we reduced their consumption to 0 and they repaid at their current monthly repayment. This would resolve $ 3.2M of debt. "
   ]
  },
  {
   "cell_type": "code",
   "execution_count": 15,
   "metadata": {
    "ExecuteTime": {
     "end_time": "2023-07-11T13:39:17.392394Z",
     "start_time": "2023-07-11T13:39:17.379478Z"
    }
   },
   "outputs": [
    {
     "data": {
      "text/plain": [
       "3275512.0"
      ]
     },
     "execution_count": 15,
     "metadata": {},
     "output_type": "execute_result"
    }
   ],
   "source": [
    "less_12_month_payback_zero_consump['Bill September'].sum()"
   ]
  },
  {
   "cell_type": "code",
   "execution_count": 16,
   "metadata": {
    "ExecuteTime": {
     "end_time": "2023-07-11T13:39:17.423685Z",
     "start_time": "2023-07-11T13:39:17.394388Z"
    }
   },
   "outputs": [
    {
     "data": {
      "text/html": [
       "<div>\n",
       "<style scoped>\n",
       "    .dataframe tbody tr th:only-of-type {\n",
       "        vertical-align: middle;\n",
       "    }\n",
       "\n",
       "    .dataframe tbody tr th {\n",
       "        vertical-align: top;\n",
       "    }\n",
       "\n",
       "    .dataframe thead th {\n",
       "        text-align: right;\n",
       "    }\n",
       "</style>\n",
       "<table border=\"1\" class=\"dataframe\">\n",
       "  <thead>\n",
       "    <tr style=\"text-align: right;\">\n",
       "      <th></th>\n",
       "      <th>LIMIT_BAL</th>\n",
       "      <th>SEX</th>\n",
       "      <th>EDUCATION</th>\n",
       "      <th>MARRIAGE</th>\n",
       "      <th>AGE</th>\n",
       "      <th>default payment next month</th>\n",
       "      <th>Generation</th>\n",
       "      <th>limit</th>\n",
       "      <th>Repayment September</th>\n",
       "      <th>Repayment August</th>\n",
       "      <th>...</th>\n",
       "      <th>Average monthly repayment</th>\n",
       "      <th>April consumption</th>\n",
       "      <th>May consumption</th>\n",
       "      <th>June consumption</th>\n",
       "      <th>July consumption</th>\n",
       "      <th>August consumption</th>\n",
       "      <th>Average monthly consumption</th>\n",
       "      <th>Months to repayment</th>\n",
       "      <th>Payback possible</th>\n",
       "      <th>Months to repayment no consump</th>\n",
       "    </tr>\n",
       "  </thead>\n",
       "  <tbody>\n",
       "    <tr>\n",
       "      <th>21</th>\n",
       "      <td>120000</td>\n",
       "      <td>female</td>\n",
       "      <td>university</td>\n",
       "      <td>married</td>\n",
       "      <td>39</td>\n",
       "      <td>True</td>\n",
       "      <td>Millennial</td>\n",
       "      <td>100,000 - 139,999</td>\n",
       "      <td>Paid in full</td>\n",
       "      <td>Paid in full</td>\n",
       "      <td>...</td>\n",
       "      <td>263.333333</td>\n",
       "      <td>632.0</td>\n",
       "      <td>0.0</td>\n",
       "      <td>316.0</td>\n",
       "      <td>316.0</td>\n",
       "      <td>316.0</td>\n",
       "      <td>316.0</td>\n",
       "      <td>Repayment less than consumption, need to reduc...</td>\n",
       "      <td>False</td>\n",
       "      <td>1.200000</td>\n",
       "    </tr>\n",
       "    <tr>\n",
       "      <th>23</th>\n",
       "      <td>450000</td>\n",
       "      <td>female</td>\n",
       "      <td>graduate school</td>\n",
       "      <td>married</td>\n",
       "      <td>40</td>\n",
       "      <td>True</td>\n",
       "      <td>Millennial</td>\n",
       "      <td>360,000 - 1,000,000</td>\n",
       "      <td>No consumption</td>\n",
       "      <td>No consumption</td>\n",
       "      <td>...</td>\n",
       "      <td>3764.833333</td>\n",
       "      <td>0.0</td>\n",
       "      <td>560.0</td>\n",
       "      <td>1473.0</td>\n",
       "      <td>19420.0</td>\n",
       "      <td>5520.0</td>\n",
       "      <td>5394.6</td>\n",
       "      <td>Repayment less than consumption, need to reduc...</td>\n",
       "      <td>False</td>\n",
       "      <td>1.464075</td>\n",
       "    </tr>\n",
       "    <tr>\n",
       "      <th>38</th>\n",
       "      <td>50000</td>\n",
       "      <td>male</td>\n",
       "      <td>graduate school</td>\n",
       "      <td>single</td>\n",
       "      <td>25</td>\n",
       "      <td>True</td>\n",
       "      <td>Gen Z</td>\n",
       "      <td>30,000 - 49,999</td>\n",
       "      <td>One month payment delay</td>\n",
       "      <td>Paid in full</td>\n",
       "      <td>...</td>\n",
       "      <td>130.000000</td>\n",
       "      <td>0.0</td>\n",
       "      <td>0.0</td>\n",
       "      <td>0.0</td>\n",
       "      <td>780.0</td>\n",
       "      <td>0.0</td>\n",
       "      <td>156.0</td>\n",
       "      <td>Repayment less than consumption, need to reduc...</td>\n",
       "      <td>False</td>\n",
       "      <td>0.000000</td>\n",
       "    </tr>\n",
       "    <tr>\n",
       "      <th>45</th>\n",
       "      <td>210000</td>\n",
       "      <td>male</td>\n",
       "      <td>graduate school</td>\n",
       "      <td>single</td>\n",
       "      <td>29</td>\n",
       "      <td>True</td>\n",
       "      <td>Millennial</td>\n",
       "      <td>180,000 - 209,999</td>\n",
       "      <td>No consumption</td>\n",
       "      <td>No consumption</td>\n",
       "      <td>...</td>\n",
       "      <td>0.000000</td>\n",
       "      <td>0.0</td>\n",
       "      <td>0.0</td>\n",
       "      <td>0.0</td>\n",
       "      <td>0.0</td>\n",
       "      <td>0.0</td>\n",
       "      <td>0.0</td>\n",
       "      <td>Repayment equal to consumption, need to reduce...</td>\n",
       "      <td>False</td>\n",
       "      <td>0.000000</td>\n",
       "    </tr>\n",
       "    <tr>\n",
       "      <th>46</th>\n",
       "      <td>20000</td>\n",
       "      <td>female</td>\n",
       "      <td>graduate school</td>\n",
       "      <td>single</td>\n",
       "      <td>22</td>\n",
       "      <td>True</td>\n",
       "      <td>Gen Z</td>\n",
       "      <td>10,000 - 29,999</td>\n",
       "      <td>The use of revolving credit</td>\n",
       "      <td>The use of revolving credit</td>\n",
       "      <td>...</td>\n",
       "      <td>3345.833333</td>\n",
       "      <td>16675.0</td>\n",
       "      <td>0.0</td>\n",
       "      <td>16200.0</td>\n",
       "      <td>684.0</td>\n",
       "      <td>544.0</td>\n",
       "      <td>6820.6</td>\n",
       "      <td>Repayment less than consumption, need to reduc...</td>\n",
       "      <td>False</td>\n",
       "      <td>4.192677</td>\n",
       "    </tr>\n",
       "  </tbody>\n",
       "</table>\n",
       "<p>5 rows × 36 columns</p>\n",
       "</div>"
      ],
      "text/plain": [
       "0   LIMIT_BAL     SEX        EDUCATION MARRIAGE  AGE  \\\n",
       "21     120000  female       university  married   39   \n",
       "23     450000  female  graduate school  married   40   \n",
       "38      50000    male  graduate school   single   25   \n",
       "45     210000    male  graduate school   single   29   \n",
       "46      20000  female  graduate school   single   22   \n",
       "\n",
       "0   default payment next month  Generation                limit  \\\n",
       "21                        True  Millennial    100,000 - 139,999   \n",
       "23                        True  Millennial  360,000 - 1,000,000   \n",
       "38                        True       Gen Z      30,000 - 49,999   \n",
       "45                        True  Millennial    180,000 - 209,999   \n",
       "46                        True       Gen Z      10,000 - 29,999   \n",
       "\n",
       "0           Repayment September             Repayment August  ...  \\\n",
       "21                 Paid in full                 Paid in full  ...   \n",
       "23               No consumption               No consumption  ...   \n",
       "38      One month payment delay                 Paid in full  ...   \n",
       "45               No consumption               No consumption  ...   \n",
       "46  The use of revolving credit  The use of revolving credit  ...   \n",
       "\n",
       "0  Average monthly repayment April consumption May consumption  \\\n",
       "21                263.333333             632.0             0.0   \n",
       "23               3764.833333               0.0           560.0   \n",
       "38                130.000000               0.0             0.0   \n",
       "45                  0.000000               0.0             0.0   \n",
       "46               3345.833333           16675.0             0.0   \n",
       "\n",
       "0  June consumption  July consumption  August consumption  \\\n",
       "21            316.0             316.0               316.0   \n",
       "23           1473.0           19420.0              5520.0   \n",
       "38              0.0             780.0                 0.0   \n",
       "45              0.0               0.0                 0.0   \n",
       "46          16200.0             684.0               544.0   \n",
       "\n",
       "0   Average monthly consumption  \\\n",
       "21                        316.0   \n",
       "23                       5394.6   \n",
       "38                        156.0   \n",
       "45                          0.0   \n",
       "46                       6820.6   \n",
       "\n",
       "0                                 Months to repayment  Payback possible  \\\n",
       "21  Repayment less than consumption, need to reduc...             False   \n",
       "23  Repayment less than consumption, need to reduc...             False   \n",
       "38  Repayment less than consumption, need to reduc...             False   \n",
       "45  Repayment equal to consumption, need to reduce...             False   \n",
       "46  Repayment less than consumption, need to reduc...             False   \n",
       "\n",
       "0   Months to repayment no consump  \n",
       "21                        1.200000  \n",
       "23                        1.464075  \n",
       "38                        0.000000  \n",
       "45                        0.000000  \n",
       "46                        4.192677  \n",
       "\n",
       "[5 rows x 36 columns]"
      ]
     },
     "execution_count": 16,
     "metadata": {},
     "output_type": "execute_result"
    }
   ],
   "source": [
    "less_12_month_payback_zero_consump.head()"
   ]
  },
  {
   "cell_type": "markdown",
   "metadata": {},
   "source": [
    "Below we have a list of the remaining 284 out of 455 customers who cannot pay back in 12 months even with 0 consumption. This group is responsible for $ 23M of debt. We explore options for customers in the next section."
   ]
  },
  {
   "cell_type": "code",
   "execution_count": 17,
   "metadata": {
    "ExecuteTime": {
     "end_time": "2023-07-11T13:39:17.439632Z",
     "start_time": "2023-07-11T13:39:17.424650Z"
    }
   },
   "outputs": [
    {
     "data": {
      "text/plain": [
       "22984836.0"
      ]
     },
     "execution_count": 17,
     "metadata": {},
     "output_type": "execute_result"
    }
   ],
   "source": [
    "more_12_month_payback_zero_consump['Bill September'].sum()"
   ]
  },
  {
   "cell_type": "code",
   "execution_count": 18,
   "metadata": {
    "ExecuteTime": {
     "end_time": "2023-07-11T13:39:17.471027Z",
     "start_time": "2023-07-11T13:39:17.440626Z"
    },
    "scrolled": false
   },
   "outputs": [
    {
     "data": {
      "text/html": [
       "<div>\n",
       "<style scoped>\n",
       "    .dataframe tbody tr th:only-of-type {\n",
       "        vertical-align: middle;\n",
       "    }\n",
       "\n",
       "    .dataframe tbody tr th {\n",
       "        vertical-align: top;\n",
       "    }\n",
       "\n",
       "    .dataframe thead th {\n",
       "        text-align: right;\n",
       "    }\n",
       "</style>\n",
       "<table border=\"1\" class=\"dataframe\">\n",
       "  <thead>\n",
       "    <tr style=\"text-align: right;\">\n",
       "      <th></th>\n",
       "      <th>LIMIT_BAL</th>\n",
       "      <th>SEX</th>\n",
       "      <th>EDUCATION</th>\n",
       "      <th>MARRIAGE</th>\n",
       "      <th>AGE</th>\n",
       "      <th>default payment next month</th>\n",
       "      <th>Generation</th>\n",
       "      <th>limit</th>\n",
       "      <th>Repayment September</th>\n",
       "      <th>Repayment August</th>\n",
       "      <th>...</th>\n",
       "      <th>Average monthly repayment</th>\n",
       "      <th>April consumption</th>\n",
       "      <th>May consumption</th>\n",
       "      <th>June consumption</th>\n",
       "      <th>July consumption</th>\n",
       "      <th>August consumption</th>\n",
       "      <th>Average monthly consumption</th>\n",
       "      <th>Months to repayment</th>\n",
       "      <th>Payback possible</th>\n",
       "      <th>Months to repayment no consump</th>\n",
       "    </tr>\n",
       "  </thead>\n",
       "  <tbody>\n",
       "    <tr>\n",
       "      <th>0</th>\n",
       "      <td>20000</td>\n",
       "      <td>female</td>\n",
       "      <td>university</td>\n",
       "      <td>married</td>\n",
       "      <td>24</td>\n",
       "      <td>True</td>\n",
       "      <td>Gen Z</td>\n",
       "      <td>10,000 - 29,999</td>\n",
       "      <td>Two month payment delay</td>\n",
       "      <td>Two month payment delay</td>\n",
       "      <td>...</td>\n",
       "      <td>114.833333</td>\n",
       "      <td>0.0</td>\n",
       "      <td>0.0</td>\n",
       "      <td>689.0</td>\n",
       "      <td>3102.0</td>\n",
       "      <td>811.0</td>\n",
       "      <td>920.4</td>\n",
       "      <td>Repayment less than consumption, need to reduc...</td>\n",
       "      <td>False</td>\n",
       "      <td>34.075472</td>\n",
       "    </tr>\n",
       "    <tr>\n",
       "      <th>13</th>\n",
       "      <td>70000</td>\n",
       "      <td>male</td>\n",
       "      <td>university</td>\n",
       "      <td>single</td>\n",
       "      <td>30</td>\n",
       "      <td>True</td>\n",
       "      <td>Millennial</td>\n",
       "      <td>50,000 - 69,999</td>\n",
       "      <td>One month payment delay</td>\n",
       "      <td>Two month payment delay</td>\n",
       "      <td>...</td>\n",
       "      <td>1783.333333</td>\n",
       "      <td>743.0</td>\n",
       "      <td>33645.0</td>\n",
       "      <td>1919.0</td>\n",
       "      <td>1668.0</td>\n",
       "      <td>1633.0</td>\n",
       "      <td>7921.6</td>\n",
       "      <td>Repayment less than consumption, need to reduc...</td>\n",
       "      <td>False</td>\n",
       "      <td>36.898318</td>\n",
       "    </tr>\n",
       "    <tr>\n",
       "      <th>16</th>\n",
       "      <td>20000</td>\n",
       "      <td>male</td>\n",
       "      <td>graduate school</td>\n",
       "      <td>single</td>\n",
       "      <td>24</td>\n",
       "      <td>True</td>\n",
       "      <td>Gen Z</td>\n",
       "      <td>10,000 - 29,999</td>\n",
       "      <td>The use of revolving credit</td>\n",
       "      <td>The use of revolving credit</td>\n",
       "      <td>...</td>\n",
       "      <td>1058.333333</td>\n",
       "      <td>451.0</td>\n",
       "      <td>433.0</td>\n",
       "      <td>590.0</td>\n",
       "      <td>582.0</td>\n",
       "      <td>566.0</td>\n",
       "      <td>524.4</td>\n",
       "      <td>28.7976</td>\n",
       "      <td>False</td>\n",
       "      <td>14.528504</td>\n",
       "    </tr>\n",
       "    <tr>\n",
       "      <th>22</th>\n",
       "      <td>70000</td>\n",
       "      <td>female</td>\n",
       "      <td>university</td>\n",
       "      <td>single</td>\n",
       "      <td>26</td>\n",
       "      <td>True</td>\n",
       "      <td>Gen Z</td>\n",
       "      <td>50,000 - 69,999</td>\n",
       "      <td>Two month payment delay</td>\n",
       "      <td>The use of revolving credit</td>\n",
       "      <td>...</td>\n",
       "      <td>1835.000000</td>\n",
       "      <td>893.0</td>\n",
       "      <td>702.0</td>\n",
       "      <td>1014.0</td>\n",
       "      <td>1007.0</td>\n",
       "      <td>649.0</td>\n",
       "      <td>853.0</td>\n",
       "      <td>41.8401</td>\n",
       "      <td>False</td>\n",
       "      <td>22.390736</td>\n",
       "    </tr>\n",
       "    <tr>\n",
       "      <th>31</th>\n",
       "      <td>50000</td>\n",
       "      <td>male</td>\n",
       "      <td>university</td>\n",
       "      <td>single</td>\n",
       "      <td>33</td>\n",
       "      <td>True</td>\n",
       "      <td>Millennial</td>\n",
       "      <td>30,000 - 49,999</td>\n",
       "      <td>Two month payment delay</td>\n",
       "      <td>The use of revolving credit</td>\n",
       "      <td>...</td>\n",
       "      <td>1155.666667</td>\n",
       "      <td>537.0</td>\n",
       "      <td>517.0</td>\n",
       "      <td>368.0</td>\n",
       "      <td>9016.0</td>\n",
       "      <td>2618.0</td>\n",
       "      <td>2611.2</td>\n",
       "      <td>Repayment less than consumption, need to reduc...</td>\n",
       "      <td>False</td>\n",
       "      <td>26.407269</td>\n",
       "    </tr>\n",
       "  </tbody>\n",
       "</table>\n",
       "<p>5 rows × 36 columns</p>\n",
       "</div>"
      ],
      "text/plain": [
       "0   LIMIT_BAL     SEX        EDUCATION MARRIAGE  AGE  \\\n",
       "0       20000  female       university  married   24   \n",
       "13      70000    male       university   single   30   \n",
       "16      20000    male  graduate school   single   24   \n",
       "22      70000  female       university   single   26   \n",
       "31      50000    male       university   single   33   \n",
       "\n",
       "0   default payment next month  Generation            limit  \\\n",
       "0                         True       Gen Z  10,000 - 29,999   \n",
       "13                        True  Millennial  50,000 - 69,999   \n",
       "16                        True       Gen Z  10,000 - 29,999   \n",
       "22                        True       Gen Z  50,000 - 69,999   \n",
       "31                        True  Millennial  30,000 - 49,999   \n",
       "\n",
       "0           Repayment September             Repayment August  ...  \\\n",
       "0       Two month payment delay      Two month payment delay  ...   \n",
       "13      One month payment delay      Two month payment delay  ...   \n",
       "16  The use of revolving credit  The use of revolving credit  ...   \n",
       "22      Two month payment delay  The use of revolving credit  ...   \n",
       "31      Two month payment delay  The use of revolving credit  ...   \n",
       "\n",
       "0  Average monthly repayment April consumption May consumption  \\\n",
       "0                 114.833333               0.0             0.0   \n",
       "13               1783.333333             743.0         33645.0   \n",
       "16               1058.333333             451.0           433.0   \n",
       "22               1835.000000             893.0           702.0   \n",
       "31               1155.666667             537.0           517.0   \n",
       "\n",
       "0  June consumption  July consumption  August consumption  \\\n",
       "0             689.0            3102.0               811.0   \n",
       "13           1919.0            1668.0              1633.0   \n",
       "16            590.0             582.0               566.0   \n",
       "22           1014.0            1007.0               649.0   \n",
       "31            368.0            9016.0              2618.0   \n",
       "\n",
       "0   Average monthly consumption  \\\n",
       "0                         920.4   \n",
       "13                       7921.6   \n",
       "16                        524.4   \n",
       "22                        853.0   \n",
       "31                       2611.2   \n",
       "\n",
       "0                                 Months to repayment  Payback possible  \\\n",
       "0   Repayment less than consumption, need to reduc...             False   \n",
       "13  Repayment less than consumption, need to reduc...             False   \n",
       "16                                            28.7976             False   \n",
       "22                                            41.8401             False   \n",
       "31  Repayment less than consumption, need to reduc...             False   \n",
       "\n",
       "0   Months to repayment no consump  \n",
       "0                        34.075472  \n",
       "13                       36.898318  \n",
       "16                       14.528504  \n",
       "22                       22.390736  \n",
       "31                       26.407269  \n",
       "\n",
       "[5 rows x 36 columns]"
      ]
     },
     "execution_count": 18,
     "metadata": {},
     "output_type": "execute_result"
    }
   ],
   "source": [
    "more_12_month_payback_zero_consump.head()"
   ]
  },
  {
   "cell_type": "markdown",
   "metadata": {},
   "source": [
    "#### Consumption to 0 and double repayment amount"
   ]
  },
  {
   "cell_type": "markdown",
   "metadata": {},
   "source": [
    "In an extreme hypothetical scenario, we can check to see what effect  doubling their repayment while keeping their consumption as 0 would have. We have 284 customers in this bracket ($ 23M)."
   ]
  },
  {
   "cell_type": "code",
   "execution_count": 19,
   "metadata": {
    "ExecuteTime": {
     "end_time": "2023-07-11T13:39:17.486023Z",
     "start_time": "2023-07-11T13:39:17.472290Z"
    }
   },
   "outputs": [
    {
     "name": "stderr",
     "output_type": "stream",
     "text": [
      "<ipython-input-19-2e0af0857ef7>:2: SettingWithCopyWarning: \n",
      "A value is trying to be set on a copy of a slice from a DataFrame.\n",
      "Try using .loc[row_indexer,col_indexer] = value instead\n",
      "\n",
      "See the caveats in the documentation: https://pandas.pydata.org/pandas-docs/stable/user_guide/indexing.html#returning-a-view-versus-a-copy\n",
      "  more_12_month_payback_zero_consump_double_repayment['Average monthly repayment'] = more_12_month_payback_zero_consump_double_repayment['Average monthly repayment']*2\n"
     ]
    }
   ],
   "source": [
    "more_12_month_payback_zero_consump_double_repayment = more_12_month_payback_zero_consump\n",
    "more_12_month_payback_zero_consump_double_repayment['Average monthly repayment'] = more_12_month_payback_zero_consump_double_repayment['Average monthly repayment']*2\n",
    "\n",
    "#Possible & not possible groups\n",
    "more_12_month_payback_zero_consump_double_repayment_possible = more_12_month_payback_zero_consump_double_repayment[more_12_month_payback_zero_consump_double_repayment['Months to repayment no consump'] < 12]\n",
    "more_12_month_payback_zero_consump_double_repayment_impossible = more_12_month_payback_zero_consump_double_repayment[more_12_month_payback_zero_consump_double_repayment['Months to repayment no consump'] >= 12]"
   ]
  },
  {
   "cell_type": "markdown",
   "metadata": {},
   "source": [
    "Doubling the repayment while keeping the consumption at 0 has no effect. Legal proceedings should follow for the below list of 284 customers, with those first on the list the priority clients with the highest debts.\n",
    "The top 60 of these clients are responsible for $ 23M of debt. They should be prioritised."
   ]
  },
  {
   "cell_type": "code",
   "execution_count": 20,
   "metadata": {
    "ExecuteTime": {
     "end_time": "2023-07-11T13:39:17.516897Z",
     "start_time": "2023-07-11T13:39:17.487065Z"
    },
    "scrolled": true
   },
   "outputs": [
    {
     "data": {
      "text/html": [
       "<div>\n",
       "<style scoped>\n",
       "    .dataframe tbody tr th:only-of-type {\n",
       "        vertical-align: middle;\n",
       "    }\n",
       "\n",
       "    .dataframe tbody tr th {\n",
       "        vertical-align: top;\n",
       "    }\n",
       "\n",
       "    .dataframe thead th {\n",
       "        text-align: right;\n",
       "    }\n",
       "</style>\n",
       "<table border=\"1\" class=\"dataframe\">\n",
       "  <thead>\n",
       "    <tr style=\"text-align: right;\">\n",
       "      <th></th>\n",
       "      <th>LIMIT_BAL</th>\n",
       "      <th>SEX</th>\n",
       "      <th>EDUCATION</th>\n",
       "      <th>MARRIAGE</th>\n",
       "      <th>AGE</th>\n",
       "      <th>default payment next month</th>\n",
       "      <th>Generation</th>\n",
       "      <th>limit</th>\n",
       "      <th>Repayment September</th>\n",
       "      <th>Repayment August</th>\n",
       "      <th>...</th>\n",
       "      <th>Average monthly repayment</th>\n",
       "      <th>April consumption</th>\n",
       "      <th>May consumption</th>\n",
       "      <th>June consumption</th>\n",
       "      <th>July consumption</th>\n",
       "      <th>August consumption</th>\n",
       "      <th>Average monthly consumption</th>\n",
       "      <th>Months to repayment</th>\n",
       "      <th>Payback possible</th>\n",
       "      <th>Months to repayment no consump</th>\n",
       "    </tr>\n",
       "  </thead>\n",
       "  <tbody>\n",
       "    <tr>\n",
       "      <th>360</th>\n",
       "      <td>500000</td>\n",
       "      <td>female</td>\n",
       "      <td>university</td>\n",
       "      <td>single</td>\n",
       "      <td>23</td>\n",
       "      <td>True</td>\n",
       "      <td>Gen Z</td>\n",
       "      <td>360,000 - 1,000,000</td>\n",
       "      <td>Four month payment delay</td>\n",
       "      <td>Three month payment delay</td>\n",
       "      <td>...</td>\n",
       "      <td>25166.666667</td>\n",
       "      <td>80969.0</td>\n",
       "      <td>37395.0</td>\n",
       "      <td>8429.0</td>\n",
       "      <td>9293.0</td>\n",
       "      <td>8497.0</td>\n",
       "      <td>28916.6</td>\n",
       "      <td>Repayment less than consumption, need to reduc...</td>\n",
       "      <td>False</td>\n",
       "      <td>40.349086</td>\n",
       "    </tr>\n",
       "    <tr>\n",
       "      <th>451</th>\n",
       "      <td>600000</td>\n",
       "      <td>male</td>\n",
       "      <td>graduate school</td>\n",
       "      <td>married</td>\n",
       "      <td>53</td>\n",
       "      <td>True</td>\n",
       "      <td>Gen X</td>\n",
       "      <td>360,000 - 1,000,000</td>\n",
       "      <td>Two month payment delay</td>\n",
       "      <td>Two month payment delay</td>\n",
       "      <td>...</td>\n",
       "      <td>30333.333333</td>\n",
       "      <td>27267.0</td>\n",
       "      <td>22148.0</td>\n",
       "      <td>38573.0</td>\n",
       "      <td>7159.0</td>\n",
       "      <td>8288.0</td>\n",
       "      <td>20687.0</td>\n",
       "      <td>Repayment less than consumption, need to reduc...</td>\n",
       "      <td>False</td>\n",
       "      <td>30.801099</td>\n",
       "    </tr>\n",
       "    <tr>\n",
       "      <th>1826</th>\n",
       "      <td>260000</td>\n",
       "      <td>female</td>\n",
       "      <td>university</td>\n",
       "      <td>married</td>\n",
       "      <td>35</td>\n",
       "      <td>True</td>\n",
       "      <td>Millennial</td>\n",
       "      <td>210,000 - 259,999</td>\n",
       "      <td>The use of revolving credit</td>\n",
       "      <td>The use of revolving credit</td>\n",
       "      <td>...</td>\n",
       "      <td>19036.666667</td>\n",
       "      <td>42308.0</td>\n",
       "      <td>203431.0</td>\n",
       "      <td>5373.0</td>\n",
       "      <td>5744.0</td>\n",
       "      <td>3823.0</td>\n",
       "      <td>52135.8</td>\n",
       "      <td>Repayment less than consumption, need to reduc...</td>\n",
       "      <td>False</td>\n",
       "      <td>44.687340</td>\n",
       "    </tr>\n",
       "    <tr>\n",
       "      <th>1496</th>\n",
       "      <td>360000</td>\n",
       "      <td>female</td>\n",
       "      <td>university</td>\n",
       "      <td>single</td>\n",
       "      <td>35</td>\n",
       "      <td>True</td>\n",
       "      <td>Millennial</td>\n",
       "      <td>260,000 - 359,999</td>\n",
       "      <td>Two month payment delay</td>\n",
       "      <td>Two month payment delay</td>\n",
       "      <td>...</td>\n",
       "      <td>21418.666667</td>\n",
       "      <td>65764.0</td>\n",
       "      <td>69020.0</td>\n",
       "      <td>42556.0</td>\n",
       "      <td>13055.0</td>\n",
       "      <td>11477.0</td>\n",
       "      <td>40374.4</td>\n",
       "      <td>Repayment less than consumption, need to reduc...</td>\n",
       "      <td>False</td>\n",
       "      <td>33.617686</td>\n",
       "    </tr>\n",
       "    <tr>\n",
       "      <th>470</th>\n",
       "      <td>390000</td>\n",
       "      <td>female</td>\n",
       "      <td>high school</td>\n",
       "      <td>single</td>\n",
       "      <td>35</td>\n",
       "      <td>True</td>\n",
       "      <td>Millennial</td>\n",
       "      <td>360,000 - 1,000,000</td>\n",
       "      <td>The use of revolving credit</td>\n",
       "      <td>The use of revolving credit</td>\n",
       "      <td>...</td>\n",
       "      <td>22628.000000</td>\n",
       "      <td>4478.0</td>\n",
       "      <td>3928.0</td>\n",
       "      <td>129879.0</td>\n",
       "      <td>6669.0</td>\n",
       "      <td>5692.0</td>\n",
       "      <td>30129.2</td>\n",
       "      <td>Repayment less than consumption, need to reduc...</td>\n",
       "      <td>False</td>\n",
       "      <td>31.396058</td>\n",
       "    </tr>\n",
       "  </tbody>\n",
       "</table>\n",
       "<p>5 rows × 36 columns</p>\n",
       "</div>"
      ],
      "text/plain": [
       "0     LIMIT_BAL     SEX        EDUCATION MARRIAGE  AGE  \\\n",
       "360      500000  female       university   single   23   \n",
       "451      600000    male  graduate school  married   53   \n",
       "1826     260000  female       university  married   35   \n",
       "1496     360000  female       university   single   35   \n",
       "470      390000  female      high school   single   35   \n",
       "\n",
       "0     default payment next month  Generation                limit  \\\n",
       "360                         True       Gen Z  360,000 - 1,000,000   \n",
       "451                         True       Gen X  360,000 - 1,000,000   \n",
       "1826                        True  Millennial    210,000 - 259,999   \n",
       "1496                        True  Millennial    260,000 - 359,999   \n",
       "470                         True  Millennial  360,000 - 1,000,000   \n",
       "\n",
       "0             Repayment September             Repayment August  ...  \\\n",
       "360      Four month payment delay    Three month payment delay  ...   \n",
       "451       Two month payment delay      Two month payment delay  ...   \n",
       "1826  The use of revolving credit  The use of revolving credit  ...   \n",
       "1496      Two month payment delay      Two month payment delay  ...   \n",
       "470   The use of revolving credit  The use of revolving credit  ...   \n",
       "\n",
       "0    Average monthly repayment April consumption May consumption  \\\n",
       "360               25166.666667           80969.0         37395.0   \n",
       "451               30333.333333           27267.0         22148.0   \n",
       "1826              19036.666667           42308.0        203431.0   \n",
       "1496              21418.666667           65764.0         69020.0   \n",
       "470               22628.000000            4478.0          3928.0   \n",
       "\n",
       "0    June consumption  July consumption  August consumption  \\\n",
       "360            8429.0            9293.0              8497.0   \n",
       "451           38573.0            7159.0              8288.0   \n",
       "1826           5373.0            5744.0              3823.0   \n",
       "1496          42556.0           13055.0             11477.0   \n",
       "470          129879.0            6669.0              5692.0   \n",
       "\n",
       "0     Average monthly consumption  \\\n",
       "360                       28916.6   \n",
       "451                       20687.0   \n",
       "1826                      52135.8   \n",
       "1496                      40374.4   \n",
       "470                       30129.2   \n",
       "\n",
       "0                                   Months to repayment  Payback possible  \\\n",
       "360   Repayment less than consumption, need to reduc...             False   \n",
       "451   Repayment less than consumption, need to reduc...             False   \n",
       "1826  Repayment less than consumption, need to reduc...             False   \n",
       "1496  Repayment less than consumption, need to reduc...             False   \n",
       "470   Repayment less than consumption, need to reduc...             False   \n",
       "\n",
       "0     Months to repayment no consump  \n",
       "360                        40.349086  \n",
       "451                        30.801099  \n",
       "1826                       44.687340  \n",
       "1496                       33.617686  \n",
       "470                        31.396058  \n",
       "\n",
       "[5 rows x 36 columns]"
      ]
     },
     "execution_count": 20,
     "metadata": {},
     "output_type": "execute_result"
    }
   ],
   "source": [
    "#customers we should follow legal preceedings with\n",
    "legal_customers = more_12_month_payback_zero_consump.sort_values(by = ['Bill September'], ascending=False).head(60)\n",
    "legal_customers.head()"
   ]
  },
  {
   "cell_type": "markdown",
   "metadata": {},
   "source": [
    "## Non-defaulting customers"
   ]
  },
  {
   "cell_type": "markdown",
   "metadata": {},
   "source": [
    "For non-defaulting customers, we will highlight the customers of concern to change their credit limits."
   ]
  },
  {
   "cell_type": "code",
   "execution_count": 21,
   "metadata": {
    "ExecuteTime": {
     "end_time": "2023-07-11T13:39:17.532096Z",
     "start_time": "2023-07-11T13:39:17.517976Z"
    }
   },
   "outputs": [
    {
     "name": "stderr",
     "output_type": "stream",
     "text": [
      "<ipython-input-21-bd9599ca0a88>:2: SettingWithCopyWarning: \n",
      "A value is trying to be set on a copy of a slice from a DataFrame.\n",
      "Try using .loc[row_indexer,col_indexer] = value instead\n",
      "\n",
      "See the caveats in the documentation: https://pandas.pydata.org/pandas-docs/stable/user_guide/indexing.html#returning-a-view-versus-a-copy\n",
      "  df_non_default['Debt bracket'] = pd.cut(df_non_default['Bill September'], bins=cut_bins)\n"
     ]
    }
   ],
   "source": [
    "cut_bins = [0,50000, 100000, 150000, 200000, 250000,1000000]\n",
    "df_non_default['Debt bracket'] = pd.cut(df_non_default['Bill September'], bins=cut_bins)"
   ]
  },
  {
   "cell_type": "code",
   "execution_count": 22,
   "metadata": {
    "ExecuteTime": {
     "end_time": "2023-07-11T13:39:17.547411Z",
     "start_time": "2023-07-11T13:39:17.534282Z"
    },
    "scrolled": false
   },
   "outputs": [
    {
     "name": "stdout",
     "output_type": "stream",
     "text": [
      "Number of non defaulting customers in each credit limit bracket\n"
     ]
    },
    {
     "data": {
      "text/plain": [
       "Debt bracket\n",
       "(0, 50000]           1144\n",
       "(50000, 100000]       279\n",
       "(100000, 150000]      137\n",
       "(150000, 200000]       74\n",
       "(200000, 250000]       31\n",
       "(250000, 1000000]      56\n",
       "Name: Debt bracket, dtype: int64"
      ]
     },
     "execution_count": 22,
     "metadata": {},
     "output_type": "execute_result"
    }
   ],
   "source": [
    "print(\"Number of non defaulting customers in each credit limit bracket\")\n",
    "\n",
    "df_non_default.groupby(['Debt bracket'])['Debt bracket'].count()"
   ]
  },
  {
   "cell_type": "code",
   "execution_count": 23,
   "metadata": {
    "ExecuteTime": {
     "end_time": "2023-07-11T13:39:17.579182Z",
     "start_time": "2023-07-11T13:39:17.552933Z"
    }
   },
   "outputs": [
    {
     "name": "stdout",
     "output_type": "stream",
     "text": [
      "Amount of debt of non defaulting customers in each credit limit bracket\n"
     ]
    },
    {
     "data": {
      "text/plain": [
       "Debt bracket\n",
       "(0, 50000]           18794867.0\n",
       "(50000, 100000]      19915195.0\n",
       "(100000, 150000]     16726952.0\n",
       "(150000, 200000]     12945232.0\n",
       "(200000, 250000]      6917247.0\n",
       "(250000, 1000000]    20261560.0\n",
       "Name: Bill September, dtype: float64"
      ]
     },
     "execution_count": 23,
     "metadata": {},
     "output_type": "execute_result"
    }
   ],
   "source": [
    "print(\"Amount of debt of non defaulting customers in each credit limit bracket\")\n",
    "\n",
    "df_non_default.groupby(['Debt bracket'])['Bill September'].sum()"
   ]
  },
  {
   "cell_type": "markdown",
   "metadata": {},
   "source": [
    "For the purposes of the below, we will ignore clients with an outstanding bill of over 200k.\n",
    "A lot of these clients have had debt interventions by the company already."
   ]
  },
  {
   "cell_type": "code",
   "execution_count": 24,
   "metadata": {
    "ExecuteTime": {
     "end_time": "2023-07-11T13:39:17.595093Z",
     "start_time": "2023-07-11T13:39:17.581740Z"
    }
   },
   "outputs": [],
   "source": [
    "#Customers over and under 200k of debt\n",
    "df_non_default_bill_under_200k = df_non_default[df_non_default['Bill September']<=200000]\n",
    "df_non_default_bill_over_200k = df_non_default[df_non_default['Bill September']>200000]\n",
    "\n",
    "#payback possible\n",
    "df_non_default_bill_under_200k_possible = df_non_default_bill_under_200k[df_non_default_bill_under_200k['Payback possible'] == True]\n",
    "df_non_default_bill_under_200k_not_possible = df_non_default_bill_under_200k[df_non_default_bill_under_200k['Payback possible'] == False]"
   ]
  },
  {
   "cell_type": "markdown",
   "metadata": {},
   "source": [
    "### Customers who can payback within 12 months"
   ]
  },
  {
   "cell_type": "markdown",
   "metadata": {},
   "source": [
    "As we see below, the below list of people can repay within 12 months. These 329 customers are not of concern, their total debt amounts to $ 2.3M and continuing their current spending habits will lead to their debt clearing within 12 months (based on our earlier assumptions)."
   ]
  },
  {
   "cell_type": "code",
   "execution_count": 25,
   "metadata": {
    "ExecuteTime": {
     "end_time": "2023-07-11T13:39:17.642407Z",
     "start_time": "2023-07-11T13:39:17.596055Z"
    }
   },
   "outputs": [
    {
     "data": {
      "text/html": [
       "<div>\n",
       "<style scoped>\n",
       "    .dataframe tbody tr th:only-of-type {\n",
       "        vertical-align: middle;\n",
       "    }\n",
       "\n",
       "    .dataframe tbody tr th {\n",
       "        vertical-align: top;\n",
       "    }\n",
       "\n",
       "    .dataframe thead th {\n",
       "        text-align: right;\n",
       "    }\n",
       "</style>\n",
       "<table border=\"1\" class=\"dataframe\">\n",
       "  <thead>\n",
       "    <tr style=\"text-align: right;\">\n",
       "      <th></th>\n",
       "      <th>LIMIT_BAL</th>\n",
       "      <th>SEX</th>\n",
       "      <th>EDUCATION</th>\n",
       "      <th>MARRIAGE</th>\n",
       "      <th>AGE</th>\n",
       "      <th>default payment next month</th>\n",
       "      <th>Generation</th>\n",
       "      <th>limit</th>\n",
       "      <th>Repayment September</th>\n",
       "      <th>Repayment August</th>\n",
       "      <th>...</th>\n",
       "      <th>Average monthly repayment</th>\n",
       "      <th>April consumption</th>\n",
       "      <th>May consumption</th>\n",
       "      <th>June consumption</th>\n",
       "      <th>July consumption</th>\n",
       "      <th>August consumption</th>\n",
       "      <th>Average monthly consumption</th>\n",
       "      <th>Months to repayment</th>\n",
       "      <th>Payback possible</th>\n",
       "      <th>Debt bracket</th>\n",
       "    </tr>\n",
       "  </thead>\n",
       "  <tbody>\n",
       "    <tr>\n",
       "      <th>9</th>\n",
       "      <td>20000</td>\n",
       "      <td>male</td>\n",
       "      <td>high school</td>\n",
       "      <td>single</td>\n",
       "      <td>35</td>\n",
       "      <td>False</td>\n",
       "      <td>Millennial</td>\n",
       "      <td>10,000 - 29,999</td>\n",
       "      <td>No consumption</td>\n",
       "      <td>No consumption</td>\n",
       "      <td>...</td>\n",
       "      <td>2354.833333</td>\n",
       "      <td>217.0</td>\n",
       "      <td>0.0</td>\n",
       "      <td>0.0</td>\n",
       "      <td>0.0</td>\n",
       "      <td>0.0</td>\n",
       "      <td>43.4</td>\n",
       "      <td>0</td>\n",
       "      <td>True</td>\n",
       "      <td>NaN</td>\n",
       "    </tr>\n",
       "    <tr>\n",
       "      <th>24</th>\n",
       "      <td>90000</td>\n",
       "      <td>male</td>\n",
       "      <td>graduate school</td>\n",
       "      <td>single</td>\n",
       "      <td>23</td>\n",
       "      <td>False</td>\n",
       "      <td>Gen Z</td>\n",
       "      <td>70,000 - 99,999</td>\n",
       "      <td>The use of revolving credit</td>\n",
       "      <td>The use of revolving credit</td>\n",
       "      <td>...</td>\n",
       "      <td>2733.333333</td>\n",
       "      <td>113.0</td>\n",
       "      <td>238.0</td>\n",
       "      <td>0.0</td>\n",
       "      <td>7070.0</td>\n",
       "      <td>3431.0</td>\n",
       "      <td>2170.4</td>\n",
       "      <td>8.42729</td>\n",
       "      <td>True</td>\n",
       "      <td>(0.0, 50000.0]</td>\n",
       "    </tr>\n",
       "    <tr>\n",
       "      <th>33</th>\n",
       "      <td>500000</td>\n",
       "      <td>female</td>\n",
       "      <td>university</td>\n",
       "      <td>married</td>\n",
       "      <td>54</td>\n",
       "      <td>False</td>\n",
       "      <td>Gen X</td>\n",
       "      <td>360,000 - 1,000,000</td>\n",
       "      <td>No consumption</td>\n",
       "      <td>No consumption</td>\n",
       "      <td>...</td>\n",
       "      <td>26417.000000</td>\n",
       "      <td>63439.0</td>\n",
       "      <td>7521.0</td>\n",
       "      <td>22722.0</td>\n",
       "      <td>4257.0</td>\n",
       "      <td>10929.0</td>\n",
       "      <td>21773.6</td>\n",
       "      <td>2.35366</td>\n",
       "      <td>True</td>\n",
       "      <td>(0.0, 50000.0]</td>\n",
       "    </tr>\n",
       "    <tr>\n",
       "      <th>39</th>\n",
       "      <td>280000</td>\n",
       "      <td>male</td>\n",
       "      <td>graduate school</td>\n",
       "      <td>single</td>\n",
       "      <td>31</td>\n",
       "      <td>False</td>\n",
       "      <td>Millennial</td>\n",
       "      <td>260,000 - 359,999</td>\n",
       "      <td>Paid in full</td>\n",
       "      <td>Paid in full</td>\n",
       "      <td>...</td>\n",
       "      <td>6226.166667</td>\n",
       "      <td>18024.0</td>\n",
       "      <td>0.0</td>\n",
       "      <td>4641.0</td>\n",
       "      <td>4434.0</td>\n",
       "      <td>498.0</td>\n",
       "      <td>5519.4</td>\n",
       "      <td>0.704617</td>\n",
       "      <td>True</td>\n",
       "      <td>(0.0, 50000.0]</td>\n",
       "    </tr>\n",
       "    <tr>\n",
       "      <th>42</th>\n",
       "      <td>10000</td>\n",
       "      <td>male</td>\n",
       "      <td>university</td>\n",
       "      <td>single</td>\n",
       "      <td>22</td>\n",
       "      <td>False</td>\n",
       "      <td>Gen Z</td>\n",
       "      <td>10,000 - 29,999</td>\n",
       "      <td>The use of revolving credit</td>\n",
       "      <td>The use of revolving credit</td>\n",
       "      <td>...</td>\n",
       "      <td>1204.500000</td>\n",
       "      <td>219.0</td>\n",
       "      <td>206.0</td>\n",
       "      <td>3427.0</td>\n",
       "      <td>108.0</td>\n",
       "      <td>193.0</td>\n",
       "      <td>830.6</td>\n",
       "      <td>5.02006</td>\n",
       "      <td>True</td>\n",
       "      <td>(0.0, 50000.0]</td>\n",
       "    </tr>\n",
       "  </tbody>\n",
       "</table>\n",
       "<p>5 rows × 36 columns</p>\n",
       "</div>"
      ],
      "text/plain": [
       "0   LIMIT_BAL     SEX        EDUCATION MARRIAGE  AGE  \\\n",
       "9       20000    male      high school   single   35   \n",
       "24      90000    male  graduate school   single   23   \n",
       "33     500000  female       university  married   54   \n",
       "39     280000    male  graduate school   single   31   \n",
       "42      10000    male       university   single   22   \n",
       "\n",
       "0   default payment next month  Generation                limit  \\\n",
       "9                        False  Millennial      10,000 - 29,999   \n",
       "24                       False       Gen Z      70,000 - 99,999   \n",
       "33                       False       Gen X  360,000 - 1,000,000   \n",
       "39                       False  Millennial    260,000 - 359,999   \n",
       "42                       False       Gen Z      10,000 - 29,999   \n",
       "\n",
       "0           Repayment September             Repayment August  ...  \\\n",
       "9                No consumption               No consumption  ...   \n",
       "24  The use of revolving credit  The use of revolving credit  ...   \n",
       "33               No consumption               No consumption  ...   \n",
       "39                 Paid in full                 Paid in full  ...   \n",
       "42  The use of revolving credit  The use of revolving credit  ...   \n",
       "\n",
       "0  Average monthly repayment April consumption May consumption  \\\n",
       "9                2354.833333             217.0             0.0   \n",
       "24               2733.333333             113.0           238.0   \n",
       "33              26417.000000           63439.0          7521.0   \n",
       "39               6226.166667           18024.0             0.0   \n",
       "42               1204.500000             219.0           206.0   \n",
       "\n",
       "0  June consumption  July consumption  August consumption  \\\n",
       "9               0.0               0.0                 0.0   \n",
       "24              0.0            7070.0              3431.0   \n",
       "33          22722.0            4257.0             10929.0   \n",
       "39           4641.0            4434.0               498.0   \n",
       "42           3427.0             108.0               193.0   \n",
       "\n",
       "0   Average monthly consumption  Months to repayment  Payback possible  \\\n",
       "9                          43.4                    0              True   \n",
       "24                       2170.4              8.42729              True   \n",
       "33                      21773.6              2.35366              True   \n",
       "39                       5519.4             0.704617              True   \n",
       "42                        830.6              5.02006              True   \n",
       "\n",
       "0     Debt bracket  \n",
       "9              NaN  \n",
       "24  (0.0, 50000.0]  \n",
       "33  (0.0, 50000.0]  \n",
       "39  (0.0, 50000.0]  \n",
       "42  (0.0, 50000.0]  \n",
       "\n",
       "[5 rows x 36 columns]"
      ]
     },
     "execution_count": 25,
     "metadata": {},
     "output_type": "execute_result"
    }
   ],
   "source": [
    "df_non_default_bill_under_200k_possible.head()"
   ]
  },
  {
   "cell_type": "code",
   "execution_count": 26,
   "metadata": {
    "ExecuteTime": {
     "end_time": "2023-07-11T13:39:17.657896Z",
     "start_time": "2023-07-11T13:39:17.644369Z"
    },
    "scrolled": true
   },
   "outputs": [
    {
     "data": {
      "text/plain": [
       "2311792.0"
      ]
     },
     "execution_count": 26,
     "metadata": {},
     "output_type": "execute_result"
    }
   ],
   "source": [
    "df_non_default_bill_under_200k_possible['Bill September'].sum()"
   ]
  },
  {
   "cell_type": "markdown",
   "metadata": {},
   "source": [
    "### Customers who cannot pay back within 12 months"
   ]
  },
  {
   "cell_type": "markdown",
   "metadata": {},
   "source": [
    "This is where the bulk of the company debt is:"
   ]
  },
  {
   "cell_type": "code",
   "execution_count": 27,
   "metadata": {
    "ExecuteTime": {
     "end_time": "2023-07-11T13:39:17.673033Z",
     "start_time": "2023-07-11T13:39:17.659889Z"
    },
    "scrolled": false
   },
   "outputs": [
    {
     "data": {
      "text/plain": [
       "Debt bracket\n",
       "(0, 50000]           17022409.0\n",
       "(50000, 100000]      19478120.0\n",
       "(100000, 150000]     16616535.0\n",
       "(150000, 200000]     12945232.0\n",
       "(200000, 250000]            0.0\n",
       "(250000, 1000000]           0.0\n",
       "Name: Bill September, dtype: float64"
      ]
     },
     "execution_count": 27,
     "metadata": {},
     "output_type": "execute_result"
    }
   ],
   "source": [
    "df_non_default_bill_under_200k_not_possible.groupby(['Debt bracket'])['Bill September'].sum()"
   ]
  },
  {
   "cell_type": "markdown",
   "metadata": {},
   "source": [
    "There are multiple hypothetical scenarios on how to proceed with these clients; reducing their consumption limits, increasing their payback rates, or revaluating their current credit limits with our model as shown in the next section."
   ]
  },
  {
   "cell_type": "markdown",
   "metadata": {},
   "source": [
    "# Predictive modelling"
   ]
  },
  {
   "cell_type": "markdown",
   "metadata": {},
   "source": [
    "## Classification model to predict whether a customer is likely to default or not next month"
   ]
  },
  {
   "cell_type": "markdown",
   "metadata": {},
   "source": [
    "We will be creating a model to predict whether a client is likely to default or not based on their demographics."
   ]
  },
  {
   "cell_type": "code",
   "execution_count": 28,
   "metadata": {
    "ExecuteTime": {
     "end_time": "2023-07-11T13:39:17.704371Z",
     "start_time": "2023-07-11T13:39:17.674030Z"
    }
   },
   "outputs": [],
   "source": [
    "credit_new_models = credit_new.copy()\n",
    "\n",
    "SEX_dict = {'female': 0,\n",
    "           'male':1}\n",
    "EDUCATION_dict = {'other' : 0,\n",
    "                  'graduate school' : 1,\n",
    "                  'university' :2,\n",
    "                  'high school' : 3}\n",
    "MARRIAGE_dict = {'others' : 0,\n",
    "                 'married' : 1,\n",
    "                 'single' : 2,        \n",
    "                 'divorce' : 3}\n",
    "  \n",
    "credit_new_models['SEX'] = credit_new_models['SEX'].replace(SEX_dict)\n",
    "credit_new_models['SEX'] = credit_new_models['SEX'].astype('category')\n",
    "\n",
    "credit_new_models['EDUCATION'] = credit_new_models['EDUCATION'].replace(EDUCATION_dict)\n",
    "credit_new_models['EDUCATION'] = credit_new_models['EDUCATION'].astype('category')\n",
    "\n",
    "credit_new_models['MARRIAGE'] = credit_new_models['MARRIAGE'].replace(MARRIAGE_dict)\n",
    "credit_new_models['MARRIAGE'] = credit_new_models['MARRIAGE'].astype('category')"
   ]
  },
  {
   "cell_type": "markdown",
   "metadata": {},
   "source": [
    "#### Model 1: Using only Age and Credit limit independant variables"
   ]
  },
  {
   "cell_type": "markdown",
   "metadata": {},
   "source": [
    "We have an imbalanced dataset here with 1874 non-defaulting customers and 518 defaulting. I will resample the dataset:"
   ]
  },
  {
   "cell_type": "code",
   "execution_count": 29,
   "metadata": {
    "ExecuteTime": {
     "end_time": "2023-07-11T13:39:19.290216Z",
     "start_time": "2023-07-11T13:39:17.706070Z"
    }
   },
   "outputs": [
    {
     "name": "stdout",
     "output_type": "stream",
     "text": [
      "Random Forest Classifier 0.6219332799572991\n",
      "Decision Tree Classifier 0.6091268748331998\n",
      "Gradient Boosting Classifier 0.585381371764078\n"
     ]
    }
   ],
   "source": [
    "#Defining our variables\n",
    "indep_var_age_credlim = credit_new_models[['AGE', 'LIMIT_BAL']]\n",
    "dep_var_default = credit_new_models['default payment next month']\n",
    "\n",
    "#transforming the dataset to oversample\n",
    "oversample = SMOTE()\n",
    "indep_var_age_credlim, dep_var_default= oversample.fit_resample(indep_var_age_credlim,dep_var_default)\n",
    "\n",
    "#Defining our classifying algorithms\n",
    "algos_Class = []\n",
    "algos_Class.append(('Random Forest Classifier',RandomForestClassifier()))\n",
    "algos_Class.append(('Decision Tree Classifier', DecisionTreeClassifier()))\n",
    "algos_Class.append(('Gradient Boosting Classifier', GradientBoostingClassifier()))\n",
    "\n",
    "#Getting a cross validation score across all models\n",
    "results = []\n",
    "names = []\n",
    "for name, model in algos_Class:\n",
    "    result = cross_val_score(model, indep_var_age_credlim, dep_var_default, cv=3)\n",
    "    names.append(name)\n",
    "    results.append(result)\n",
    "\n",
    "    #Print results\n",
    "for i in range(len(names)):\n",
    "    print(names[i],results[i].mean())"
   ]
  },
  {
   "cell_type": "code",
   "execution_count": 30,
   "metadata": {
    "ExecuteTime": {
     "end_time": "2023-07-11T13:39:19.679731Z",
     "start_time": "2023-07-11T13:39:19.291876Z"
    }
   },
   "outputs": [
    {
     "name": "stdout",
     "output_type": "stream",
     "text": [
      "              precision    recall  f1-score   support\n",
      "\n",
      "       False       0.62      0.54      0.58       570\n",
      "        True       0.58      0.66      0.62       555\n",
      "\n",
      "    accuracy                           0.60      1125\n",
      "   macro avg       0.60      0.60      0.60      1125\n",
      "weighted avg       0.60      0.60      0.60      1125\n",
      "\n"
     ]
    }
   ],
   "source": [
    "#Splitting data into train & test\n",
    "indep_var_age_credlim_train, indep_var_age_credlim_test, dep_var_default_train, dep_var_default_test = train_test_split(indep_var_age_credlim, dep_var_default, test_size = .30, random_state = 123)\n",
    "\n",
    "#Fitting best scoring model\n",
    "algo_1 = RandomForestClassifier() \n",
    "model_1 = algo_1.fit(indep_var_age_credlim_train,dep_var_default_train)\n",
    "\n",
    "#Predictions\n",
    "prediction_default = model_1.predict(indep_var_age_credlim_test)\n",
    "\n",
    "#Saving classification report to compare accuracies\n",
    "class_report_model_1 = classification_report(dep_var_default_test, prediction_default, output_dict = True)\n",
    "\n",
    "#Print results\n",
    "print(classification_report(dep_var_default_test, prediction_default))"
   ]
  },
  {
   "cell_type": "markdown",
   "metadata": {},
   "source": [
    "#### Model 2: Age, Credit limit, Education independant variables"
   ]
  },
  {
   "cell_type": "code",
   "execution_count": 31,
   "metadata": {
    "ExecuteTime": {
     "end_time": "2023-07-11T13:39:21.377239Z",
     "start_time": "2023-07-11T13:39:19.681815Z"
    }
   },
   "outputs": [
    {
     "name": "stdout",
     "output_type": "stream",
     "text": [
      "Random Forest Classifier 0.6539529223378703\n",
      "Decision Tree Classifier 0.6419454496930878\n",
      "Gradient Boosting Classifier 0.5971247397918334\n"
     ]
    }
   ],
   "source": [
    "#Define variables\n",
    "indep_var_age_credlim_edu = credit_new_models[['AGE', 'LIMIT_BAL','EDUCATION']]\n",
    "dep_var_default_2 = credit_new_models['default payment next month']\n",
    "\n",
    "#Resolve imbalance in data\n",
    "indep_var_age_credlim_edu, dep_var_default_2= oversample.fit_resample(indep_var_age_credlim_edu,dep_var_default_2)\n",
    "#Get cross val score for each model\n",
    "results_2 = []\n",
    "names_2 = []\n",
    "for name, model in algos_Class:\n",
    "    result = cross_val_score(model, indep_var_age_credlim_edu, dep_var_default_2, cv=3)\n",
    "    names_2.append(name)\n",
    "    results_2.append(result)\n",
    "\n",
    "#print results\n",
    "for i in range(len(names)):\n",
    "    print(names_2[i],results_2[i].mean())"
   ]
  },
  {
   "cell_type": "code",
   "execution_count": 32,
   "metadata": {
    "ExecuteTime": {
     "end_time": "2023-07-11T13:39:21.781966Z",
     "start_time": "2023-07-11T13:39:21.378821Z"
    }
   },
   "outputs": [
    {
     "name": "stdout",
     "output_type": "stream",
     "text": [
      "              precision    recall  f1-score   support\n",
      "\n",
      "       False       0.66      0.61      0.63       570\n",
      "        True       0.62      0.67      0.65       555\n",
      "\n",
      "    accuracy                           0.64      1125\n",
      "   macro avg       0.64      0.64      0.64      1125\n",
      "weighted avg       0.64      0.64      0.64      1125\n",
      "\n"
     ]
    }
   ],
   "source": [
    "#test/train split\n",
    "indep_var_age_credlim_edu_train, indep_var_age_credlim_edu_test, dep_var_default_2_train, dep_var_default_2_test = train_test_split(indep_var_age_credlim_edu, dep_var_default_2, test_size = .30, random_state = 123)\n",
    "\n",
    "#Modeling (Classification) of\n",
    "algo_2 = RandomForestClassifier() \n",
    "model_2 = algo_2.fit(indep_var_age_credlim_edu_train,dep_var_default_2_train)\n",
    "\n",
    "#Predictions\n",
    "prediction_default_2 = model_2.predict(indep_var_age_credlim_edu_test)\n",
    "\n",
    "#record accuracy\n",
    "class_report_model_2 = classification_report(dep_var_default_2_test, prediction_default_2, output_dict = True)\n",
    "\n",
    "#print results\n",
    "print(classification_report(dep_var_default_2_test, prediction_default_2))"
   ]
  },
  {
   "cell_type": "markdown",
   "metadata": {},
   "source": [
    "#### Model 3: Age, Credit limit, Education, Marriage independant variables"
   ]
  },
  {
   "cell_type": "code",
   "execution_count": 33,
   "metadata": {
    "ExecuteTime": {
     "end_time": "2023-07-11T13:39:23.576276Z",
     "start_time": "2023-07-11T13:39:21.783979Z"
    }
   },
   "outputs": [
    {
     "name": "stdout",
     "output_type": "stream",
     "text": [
      "Random Forest Classifier 0.681439871897518\n",
      "Decision Tree Classifier 0.6643599679743796\n",
      "Gradient Boosting Classifier 0.6248858286629303\n"
     ]
    }
   ],
   "source": [
    "#define variables\n",
    "indep_var_age_credlim_edu_mar = credit_new_models[['AGE', 'LIMIT_BAL','EDUCATION','MARRIAGE']]\n",
    "dep_var_default_3 = credit_new_models['default payment next month']\n",
    "\n",
    "#rebalance sample sizes\n",
    "indep_var_age_credlim_edu_mar, dep_var_default_3= oversample.fit_resample(indep_var_age_credlim_edu_mar,dep_var_default_3)\n",
    "\n",
    "#Record cross val scores\n",
    "results_3 = []\n",
    "names_3 = []\n",
    "for name, model in algos_Class:\n",
    "    result = cross_val_score(model, indep_var_age_credlim_edu_mar, dep_var_default_3, cv=3)\n",
    "    names_3.append(name)\n",
    "    results_3.append(result)\n",
    " \n",
    "#print results\n",
    "for i in range(len(names)):\n",
    "    print(names_3[i],results_3[i].mean())"
   ]
  },
  {
   "cell_type": "code",
   "execution_count": 34,
   "metadata": {
    "ExecuteTime": {
     "end_time": "2023-07-11T13:39:24.009018Z",
     "start_time": "2023-07-11T13:39:23.577920Z"
    }
   },
   "outputs": [
    {
     "name": "stdout",
     "output_type": "stream",
     "text": [
      "              precision    recall  f1-score   support\n",
      "\n",
      "       False       0.70      0.61      0.65       570\n",
      "        True       0.65      0.74      0.69       555\n",
      "\n",
      "    accuracy                           0.67      1125\n",
      "   macro avg       0.68      0.67      0.67      1125\n",
      "weighted avg       0.68      0.67      0.67      1125\n",
      "\n"
     ]
    }
   ],
   "source": [
    "#test/train split\n",
    "indep_var_age_credlim_edu_mar_train, indep_var_age_credlim_edu_mar_test, dep_var_default_3_train, dep_var_default_3_test = train_test_split(indep_var_age_credlim_edu_mar, dep_var_default_3, test_size = .30, random_state = 123)\n",
    "\n",
    "#fit model\n",
    "algo_3 = RandomForestClassifier() \n",
    "model_3 = algo_3.fit(indep_var_age_credlim_edu_mar_train,dep_var_default_3_train)\n",
    "\n",
    "#Predictions\n",
    "prediction_default_3 = model_3.predict(indep_var_age_credlim_edu_mar_test)\n",
    "\n",
    "#record accuracy\n",
    "class_report_model_3 = classification_report(dep_var_default_3_test, prediction_default_3, output_dict = True)\n",
    "\n",
    "#print results\n",
    "print(classification_report(dep_var_default_3_test, prediction_default_3))"
   ]
  },
  {
   "cell_type": "markdown",
   "metadata": {},
   "source": [
    "#### Model 4: Age, Credit limit, Education, Marriage, Sex independant variables"
   ]
  },
  {
   "cell_type": "code",
   "execution_count": 35,
   "metadata": {
    "ExecuteTime": {
     "end_time": "2023-07-11T13:39:25.830272Z",
     "start_time": "2023-07-11T13:39:24.017828Z"
    }
   },
   "outputs": [
    {
     "name": "stdout",
     "output_type": "stream",
     "text": [
      "Random Forest Classifier 0.6929178542834268\n",
      "Decision Tree Classifier 0.6729014144649054\n",
      "Gradient Boosting Classifier 0.6472994929276754\n"
     ]
    }
   ],
   "source": [
    "#reformat db\n",
    "SEX_dict_2 = {False: 0,\n",
    "           True:1}\n",
    "credit_new_models['SEX'] = credit_new_models['SEX'].replace(SEX_dict_2)\n",
    "\n",
    "#define variables\n",
    "indep_var_age_credlim_edu_mar_sex = credit_new_models[['AGE', 'LIMIT_BAL','EDUCATION','MARRIAGE','SEX']]\n",
    "dep_var_default_4 = credit_new_models['default payment next month']\n",
    "\n",
    "#Resolve sample size discrepancies\n",
    "indep_var_age_credlim_edu_mar_sex, dep_var_default_4= oversample.fit_resample(indep_var_age_credlim_edu_mar_sex,dep_var_default_4)\n",
    "\n",
    "#record cross val scores \n",
    "results_4 = []\n",
    "names_4 = []\n",
    "for name, model in algos_Class:\n",
    "    result = cross_val_score(model, indep_var_age_credlim_edu_mar_sex, dep_var_default_4, cv=3)\n",
    "    names_4.append(name)\n",
    "    results_4.append(result)\n",
    "\n",
    "#Print results\n",
    "for i in range(len(names)):\n",
    "    print(names_4[i],results_4[i].mean())"
   ]
  },
  {
   "cell_type": "code",
   "execution_count": 36,
   "metadata": {
    "ExecuteTime": {
     "end_time": "2023-07-11T13:39:26.282550Z",
     "start_time": "2023-07-11T13:39:25.831901Z"
    }
   },
   "outputs": [
    {
     "name": "stdout",
     "output_type": "stream",
     "text": [
      "              precision    recall  f1-score   support\n",
      "\n",
      "       False       0.69      0.68      0.68       570\n",
      "        True       0.67      0.69      0.68       555\n",
      "\n",
      "    accuracy                           0.68      1125\n",
      "   macro avg       0.68      0.68      0.68      1125\n",
      "weighted avg       0.68      0.68      0.68      1125\n",
      "\n"
     ]
    }
   ],
   "source": [
    "#test/train split\n",
    "indep_var_age_credlim_edu_mar_sex_train, indep_var_age_credlim_edu_mar_sex_test, dep_var_default_4_train, dep_var_default_4_test = train_test_split(indep_var_age_credlim_edu_mar_sex, dep_var_default_4, test_size = .30, random_state = 123)\n",
    "\n",
    "#fit model\n",
    "algo_4 = RandomForestClassifier() \n",
    "model_4 = algo_4.fit(indep_var_age_credlim_edu_mar_sex_train,dep_var_default_4_train)\n",
    "\n",
    "#Predictions\n",
    "prediction_default_4 = model_4.predict(indep_var_age_credlim_edu_mar_sex_test)\n",
    "\n",
    "#Record results\n",
    "class_report_model_4 = classification_report(dep_var_default_4_test, prediction_default_4, output_dict = True)\n",
    "\n",
    "#print results\n",
    "print(classification_report(dep_var_default_4_test, prediction_default_4))"
   ]
  },
  {
   "cell_type": "markdown",
   "metadata": {},
   "source": [
    "#### Conclusion"
   ]
  },
  {
   "cell_type": "markdown",
   "metadata": {},
   "source": [
    "As the below table shows, our model 4 using the Age, Credit Limit, Education, Marriage and Sex data from our clients gives the highest predicition accuracy."
   ]
  },
  {
   "cell_type": "code",
   "execution_count": 37,
   "metadata": {
    "ExecuteTime": {
     "end_time": "2023-07-11T13:39:26.298536Z",
     "start_time": "2023-07-11T13:39:26.285772Z"
    }
   },
   "outputs": [
    {
     "name": "stdout",
     "output_type": "stream",
     "text": [
      "                      Model Independant variables  Accuracy\n",
      "0                               Age, Credit Limit  0.597333\n",
      "1                 Age, Credit Limit and Education  0.639111\n",
      "2       Age, Credit Limit, Education and Marriage  0.672000\n",
      "3  Age, Credit Limit, Education, Marriage and Sex  0.683556\n"
     ]
    }
   ],
   "source": [
    "#create empty df\n",
    "df_model_comparison = pd.DataFrame()\n",
    "\n",
    "#Compare accuracies\n",
    "model_1_accuracy = class_report_model_1['accuracy']\n",
    "model_2_accuracy = class_report_model_2['accuracy']\n",
    "model_3_accuracy = class_report_model_3['accuracy']\n",
    "model_4_accuracy = class_report_model_4['accuracy']\n",
    "\n",
    "accuracy_results = [model_1_accuracy,model_2_accuracy, model_3_accuracy,model_4_accuracy]\n",
    "\n",
    "#set names\n",
    "df_model_comparison['Model Independant variables'] = ['Age, Credit Limit', 'Age, Credit Limit and Education', 'Age, Credit Limit, Education and Marriage', 'Age, Credit Limit, Education, Marriage and Sex']\n",
    "\n",
    "#set accuracies\n",
    "df_model_comparison['Accuracy'] = accuracy_results\n",
    "\n",
    "print(df_model_comparison)"
   ]
  },
  {
   "cell_type": "markdown",
   "metadata": {},
   "source": [
    "## Model to predict a credit limit for customers "
   ]
  },
  {
   "cell_type": "markdown",
   "metadata": {},
   "source": [
    "We now have a model that can help us predict whether a customer is likely to default or not, based on their age and credit limit. I will now create a model to predict their credit limit based on their demographics."
   ]
  },
  {
   "cell_type": "code",
   "execution_count": 38,
   "metadata": {
    "ExecuteTime": {
     "end_time": "2023-07-11T13:39:26.314888Z",
     "start_time": "2023-07-11T13:39:26.300830Z"
    }
   },
   "outputs": [],
   "source": [
    "#Defining credit limit labels\n",
    "cred_lim_lables = [50000, 100000, 150000, 200000, 250000, 1000000]\n",
    "#creating a column for these brackets\n",
    "credit_new_models['limits'] = pd.cut(credit_new_models['LIMIT_BAL'], bins = cut_bins, labels = cred_lim_lables)\n",
    "\n",
    "credit_defaults_new_models = credit_new_models[credit_new_models['default payment next month'] == 1]\n",
    "credit_non_defaults_new_models = credit_new_models[credit_new_models['default payment next month'] == 0]\n"
   ]
  },
  {
   "cell_type": "markdown",
   "metadata": {},
   "source": [
    "I will train the model with the data of the non-defaulting population in order to provide a credit limit bracket that has not provided the company with an issue in the past."
   ]
  },
  {
   "cell_type": "code",
   "execution_count": 48,
   "metadata": {
    "ExecuteTime": {
     "end_time": "2023-07-11T13:46:34.461413Z",
     "start_time": "2023-07-11T13:46:25.974907Z"
    }
   },
   "outputs": [
    {
     "name": "stdout",
     "output_type": "stream",
     "text": [
      "Random Forest Classifier 0.33080260303687636\n",
      "Decision Tree Classifier 0.32971800433839477\n",
      "Gradient Boosting Classifier 0.30441070137382503\n"
     ]
    }
   ],
   "source": [
    "#Define variables\n",
    "indep_var_non_default_age_sex_edu_marriage = credit_non_defaults_new_models[['AGE','SEX','EDUCATION', 'MARRIAGE']]\n",
    "dep_var_non_default_cred_lim_brackets = credit_non_defaults_new_models['limits']\n",
    "\n",
    "#Sort sample size\n",
    "indep_var_non_default_age_sex_edu_marriage, dep_var_non_default_cred_lim_brackets= oversample.fit_resample(indep_var_non_default_age_sex_edu_marriage,dep_var_non_default_cred_lim_brackets)\n",
    "\n",
    "#Record the cross val scores\n",
    "results_5 = []\n",
    "names_5 = []\n",
    "for name, model in algos_Class:\n",
    "    result = cross_val_score(model, indep_var_non_default_age_sex_edu_marriage, dep_var_non_default_cred_lim_brackets, cv=3)\n",
    "    names_5.append(name)\n",
    "    results_5.append(result)\n",
    "\n",
    "#print cross val scores\n",
    "for i in range(len(names)):\n",
    "    print(names_5[i],results_5[i].mean())"
   ]
  },
  {
   "cell_type": "code",
   "execution_count": 40,
   "metadata": {
    "ExecuteTime": {
     "end_time": "2023-07-11T13:39:30.501760Z",
     "start_time": "2023-07-11T13:39:30.177618Z"
    }
   },
   "outputs": [
    {
     "name": "stdout",
     "output_type": "stream",
     "text": [
      "              precision    recall  f1-score   support\n",
      "\n",
      "       50000       0.44      0.39      0.41       130\n",
      "      100000       0.30      0.36      0.33       143\n",
      "      150000       0.27      0.21      0.24       148\n",
      "      200000       0.38      0.33      0.35       138\n",
      "      250000       0.35      0.39      0.37       144\n",
      "     1000000       0.25      0.30      0.27       127\n",
      "\n",
      "    accuracy                           0.33       830\n",
      "   macro avg       0.33      0.33      0.33       830\n",
      "weighted avg       0.33      0.33      0.33       830\n",
      "\n"
     ]
    }
   ],
   "source": [
    "#test/train split\n",
    "indep_var_non_default_age_sex_edu_marriage_train, indep_var_non_default_age_sex_edu_marriage_test, dep_var_non_default_cred_lim_brackets_train, dep_var_non_default_cred_lim_brackets_test = train_test_split(indep_var_non_default_age_sex_edu_marriage, dep_var_non_default_cred_lim_brackets, test_size = .30, random_state = 123)\n",
    "\n",
    "#Define algo and model\n",
    "algo_5 = RandomForestClassifier() \n",
    "model_cred_lim_bracket = algo_5.fit(indep_var_non_default_age_sex_edu_marriage_train,dep_var_non_default_cred_lim_brackets_train)\n",
    "\n",
    "#Predictions\n",
    "pred_cred_lim_bracket = model_cred_lim_bracket.predict(indep_var_non_default_age_sex_edu_marriage_test)\n",
    "\n",
    "#Print results\n",
    "print(classification_report(dep_var_non_default_cred_lim_brackets_test, pred_cred_lim_bracket))"
   ]
  },
  {
   "cell_type": "markdown",
   "metadata": {},
   "source": [
    "Our model predicts the correct credit limit bracket for a client with a 33% accuracy, almost double that of a 1/6 guess (17%)."
   ]
  },
  {
   "cell_type": "code",
   "execution_count": 41,
   "metadata": {
    "ExecuteTime": {
     "end_time": "2023-07-11T13:39:31.111029Z",
     "start_time": "2023-07-11T13:39:30.508080Z"
    }
   },
   "outputs": [
    {
     "data": {
      "image/png": "[encoded data removed]",
      "text/plain": [
       "<Figure size 432x288 with 2 Axes>"
      ]
     },
     "metadata": {
      "needs_background": "light"
     },
     "output_type": "display_data"
    }
   ],
   "source": [
    "#create confusion matrix\n",
    "confusion_matrix_limit_predicition = confusion_matrix(dep_var_non_default_cred_lim_brackets_test,pred_cred_lim_bracket)\n",
    "\n",
    "#Plot as heatmap\n",
    "ax= plt.subplot()\n",
    "fig10 = sns.heatmap(confusion_matrix_limit_predicition, annot=True, fmt='g', ax=ax);  #annot=True to annotate cells, ftm='g' to disable scientific notation\n",
    "\n",
    "# labels, title and ticks\n",
    "ax.set_xlabel('Predicted labels');ax.set_ylabel('True labels'); \n",
    "ax.set_title('Confusion Matrix'); \n",
    "ax.xaxis.set_ticklabels(['<50k', '<100k', '<150k','<200k','<250k','250k+']); ax.yaxis.set_ticklabels(['<50k', '<100k', '<150k','<200k','<250k','250k+']);"
   ]
  },
  {
   "cell_type": "markdown",
   "metadata": {},
   "source": [
    "The above confusion matrix shows the results of our model with the diagonal line from top left to right the number of correct predictions. The bottom left corner underneath the diagonal shows the number of customer with smaller predicted limits than their actual limits (this presents the higher risk customers), with the top right showing customers with smaller limits than their predicted."
   ]
  },
  {
   "cell_type": "markdown",
   "metadata": {},
   "source": [
    "### Decreasing credit limit for customers."
   ]
  },
  {
   "cell_type": "markdown",
   "metadata": {},
   "source": [
    "Here we will be implementing our credit limit predicting model on the (unused) default dataset to provide new credit limits for these customers. This model has been trained on the non-defaulting clients."
   ]
  },
  {
   "cell_type": "code",
   "execution_count": 42,
   "metadata": {
    "ExecuteTime": {
     "end_time": "2023-07-11T13:39:31.158691Z",
     "start_time": "2023-07-11T13:39:31.112451Z"
    }
   },
   "outputs": [
    {
     "name": "stderr",
     "output_type": "stream",
     "text": [
      "<ipython-input-42-b4164a080456>:6: SettingWithCopyWarning: \n",
      "A value is trying to be set on a copy of a slice from a DataFrame.\n",
      "Try using .loc[row_indexer,col_indexer] = value instead\n",
      "\n",
      "See the caveats in the documentation: https://pandas.pydata.org/pandas-docs/stable/user_guide/indexing.html#returning-a-view-versus-a-copy\n",
      "  credit_defaults_new_models['Prediction'] = pred_cred_lim_bracket_whole_dataset\n",
      "<ipython-input-42-b4164a080456>:9: SettingWithCopyWarning: \n",
      "A value is trying to be set on a copy of a slice from a DataFrame.\n",
      "Try using .loc[row_indexer,col_indexer] = value instead\n",
      "\n",
      "See the caveats in the documentation: https://pandas.pydata.org/pandas-docs/stable/user_guide/indexing.html#returning-a-view-versus-a-copy\n",
      "  credit_defaults_new_models['limits'] = credit_defaults_new_models['limits'].astype(int)\n",
      "<ipython-input-42-b4164a080456>:10: SettingWithCopyWarning: \n",
      "A value is trying to be set on a copy of a slice from a DataFrame.\n",
      "Try using .loc[row_indexer,col_indexer] = value instead\n",
      "\n",
      "See the caveats in the documentation: https://pandas.pydata.org/pandas-docs/stable/user_guide/indexing.html#returning-a-view-versus-a-copy\n",
      "  credit_defaults_new_models['Prediction'] = credit_defaults_new_models['Prediction'].astype(int)\n",
      "<ipython-input-42-b4164a080456>:13: SettingWithCopyWarning: \n",
      "A value is trying to be set on a copy of a slice from a DataFrame.\n",
      "Try using .loc[row_indexer,col_indexer] = value instead\n",
      "\n",
      "See the caveats in the documentation: https://pandas.pydata.org/pandas-docs/stable/user_guide/indexing.html#returning-a-view-versus-a-copy\n",
      "  credit_defaults_new_models['Decrease credit limit'] = credit_defaults_new_models['Prediction'] < credit_defaults_new_models['limits']\n"
     ]
    }
   ],
   "source": [
    "#Creating variables on our unseen dataset\n",
    "indep_age_sex_edu_marriage_whole_dataset = credit_defaults_new_models[['AGE','SEX','EDUCATION', 'MARRIAGE']]\n",
    "#Prediction on unseen data\n",
    "pred_cred_lim_bracket_whole_dataset = model_cred_lim_bracket.predict(indep_age_sex_edu_marriage_whole_dataset)\n",
    "#Adding the predictions onto our dataset to compare against real values\n",
    "credit_defaults_new_models['Prediction'] = pred_cred_lim_bracket_whole_dataset\n",
    "\n",
    "#formatting\n",
    "credit_defaults_new_models['limits'] = credit_defaults_new_models['limits'].astype(int)\n",
    "credit_defaults_new_models['Prediction'] = credit_defaults_new_models['Prediction'].astype(int)\n",
    "\n",
    "#Column to see if the predcitions are lower than the real values\n",
    "credit_defaults_new_models['Decrease credit limit'] = credit_defaults_new_models['Prediction'] < credit_defaults_new_models['limits']\n",
    "#Dataframe for info of clients who should have their credit limit reduced, according to our model.\n",
    "reduce_client_credit_limit = credit_defaults_new_models[credit_defaults_new_models['Decrease credit limit'] == True]"
   ]
  },
  {
   "cell_type": "markdown",
   "metadata": {},
   "source": [
    "Below we have a list of 159 defaulting clients with credit limits higher than our model predicts. These clients should have their credit limit reduced to below our upper prediction bracket in order to reduce defaulting in the future."
   ]
  },
  {
   "cell_type": "code",
   "execution_count": 43,
   "metadata": {
    "ExecuteTime": {
     "end_time": "2023-07-11T13:39:31.190002Z",
     "start_time": "2023-07-11T13:39:31.159407Z"
    },
    "scrolled": false
   },
   "outputs": [
    {
     "data": {
      "text/html": [
       "<div>\n",
       "<style scoped>\n",
       "    .dataframe tbody tr th:only-of-type {\n",
       "        vertical-align: middle;\n",
       "    }\n",
       "\n",
       "    .dataframe tbody tr th {\n",
       "        vertical-align: top;\n",
       "    }\n",
       "\n",
       "    .dataframe thead th {\n",
       "        text-align: right;\n",
       "    }\n",
       "</style>\n",
       "<table border=\"1\" class=\"dataframe\">\n",
       "  <thead>\n",
       "    <tr style=\"text-align: right;\">\n",
       "      <th></th>\n",
       "      <th>LIMIT_BAL</th>\n",
       "      <th>SEX</th>\n",
       "      <th>EDUCATION</th>\n",
       "      <th>MARRIAGE</th>\n",
       "      <th>AGE</th>\n",
       "      <th>default payment next month</th>\n",
       "      <th>Generation</th>\n",
       "      <th>limit</th>\n",
       "      <th>Repayment September</th>\n",
       "      <th>Repayment August</th>\n",
       "      <th>...</th>\n",
       "      <th>May consumption</th>\n",
       "      <th>June consumption</th>\n",
       "      <th>July consumption</th>\n",
       "      <th>August consumption</th>\n",
       "      <th>Average monthly consumption</th>\n",
       "      <th>Months to repayment</th>\n",
       "      <th>Payback possible</th>\n",
       "      <th>limits</th>\n",
       "      <th>Prediction</th>\n",
       "      <th>Decrease credit limit</th>\n",
       "    </tr>\n",
       "  </thead>\n",
       "  <tbody>\n",
       "    <tr>\n",
       "      <th>13</th>\n",
       "      <td>70000</td>\n",
       "      <td>1</td>\n",
       "      <td>2</td>\n",
       "      <td>2</td>\n",
       "      <td>30</td>\n",
       "      <td>True</td>\n",
       "      <td>Millennial</td>\n",
       "      <td>50,000 - 69,999</td>\n",
       "      <td>One month payment delay</td>\n",
       "      <td>Two month payment delay</td>\n",
       "      <td>...</td>\n",
       "      <td>33645.0</td>\n",
       "      <td>1919.0</td>\n",
       "      <td>1668.0</td>\n",
       "      <td>1633.0</td>\n",
       "      <td>7921.6</td>\n",
       "      <td>Repayment less than consumption, need to reduc...</td>\n",
       "      <td>False</td>\n",
       "      <td>100000</td>\n",
       "      <td>50000</td>\n",
       "      <td>True</td>\n",
       "    </tr>\n",
       "    <tr>\n",
       "      <th>23</th>\n",
       "      <td>450000</td>\n",
       "      <td>0</td>\n",
       "      <td>1</td>\n",
       "      <td>1</td>\n",
       "      <td>40</td>\n",
       "      <td>True</td>\n",
       "      <td>Millennial</td>\n",
       "      <td>360,000 - 1,000,000</td>\n",
       "      <td>No consumption</td>\n",
       "      <td>No consumption</td>\n",
       "      <td>...</td>\n",
       "      <td>560.0</td>\n",
       "      <td>1473.0</td>\n",
       "      <td>19420.0</td>\n",
       "      <td>5520.0</td>\n",
       "      <td>5394.6</td>\n",
       "      <td>Repayment less than consumption, need to reduc...</td>\n",
       "      <td>False</td>\n",
       "      <td>1000000</td>\n",
       "      <td>200000</td>\n",
       "      <td>True</td>\n",
       "    </tr>\n",
       "    <tr>\n",
       "      <th>50</th>\n",
       "      <td>70000</td>\n",
       "      <td>1</td>\n",
       "      <td>3</td>\n",
       "      <td>2</td>\n",
       "      <td>42</td>\n",
       "      <td>True</td>\n",
       "      <td>Millennial</td>\n",
       "      <td>50,000 - 69,999</td>\n",
       "      <td>One month payment delay</td>\n",
       "      <td>Two month payment delay</td>\n",
       "      <td>...</td>\n",
       "      <td>764.0</td>\n",
       "      <td>932.0</td>\n",
       "      <td>916.0</td>\n",
       "      <td>871.0</td>\n",
       "      <td>856.0</td>\n",
       "      <td>74.9838</td>\n",
       "      <td>False</td>\n",
       "      <td>100000</td>\n",
       "      <td>50000</td>\n",
       "      <td>True</td>\n",
       "    </tr>\n",
       "    <tr>\n",
       "      <th>60</th>\n",
       "      <td>500000</td>\n",
       "      <td>0</td>\n",
       "      <td>3</td>\n",
       "      <td>1</td>\n",
       "      <td>28</td>\n",
       "      <td>True</td>\n",
       "      <td>Millennial</td>\n",
       "      <td>360,000 - 1,000,000</td>\n",
       "      <td>The use of revolving credit</td>\n",
       "      <td>The use of revolving credit</td>\n",
       "      <td>...</td>\n",
       "      <td>2110.0</td>\n",
       "      <td>4941.0</td>\n",
       "      <td>6060.0</td>\n",
       "      <td>726.0</td>\n",
       "      <td>2818.6</td>\n",
       "      <td>Repayment less than consumption, need to reduc...</td>\n",
       "      <td>False</td>\n",
       "      <td>1000000</td>\n",
       "      <td>150000</td>\n",
       "      <td>True</td>\n",
       "    </tr>\n",
       "    <tr>\n",
       "      <th>71</th>\n",
       "      <td>320000</td>\n",
       "      <td>1</td>\n",
       "      <td>2</td>\n",
       "      <td>2</td>\n",
       "      <td>29</td>\n",
       "      <td>True</td>\n",
       "      <td>Millennial</td>\n",
       "      <td>260,000 - 359,999</td>\n",
       "      <td>Two month payment delay</td>\n",
       "      <td>Two month payment delay</td>\n",
       "      <td>...</td>\n",
       "      <td>1115.0</td>\n",
       "      <td>1562.0</td>\n",
       "      <td>1562.0</td>\n",
       "      <td>1521.0</td>\n",
       "      <td>1388.2</td>\n",
       "      <td>63.9033</td>\n",
       "      <td>False</td>\n",
       "      <td>1000000</td>\n",
       "      <td>50000</td>\n",
       "      <td>True</td>\n",
       "    </tr>\n",
       "  </tbody>\n",
       "</table>\n",
       "<p>5 rows × 38 columns</p>\n",
       "</div>"
      ],
      "text/plain": [
       "0   LIMIT_BAL  SEX EDUCATION MARRIAGE  AGE  default payment next month  \\\n",
       "13      70000    1         2        2   30                        True   \n",
       "23     450000    0         1        1   40                        True   \n",
       "50      70000    1         3        2   42                        True   \n",
       "60     500000    0         3        1   28                        True   \n",
       "71     320000    1         2        2   29                        True   \n",
       "\n",
       "0   Generation                limit          Repayment September  \\\n",
       "13  Millennial      50,000 - 69,999      One month payment delay   \n",
       "23  Millennial  360,000 - 1,000,000               No consumption   \n",
       "50  Millennial      50,000 - 69,999      One month payment delay   \n",
       "60  Millennial  360,000 - 1,000,000  The use of revolving credit   \n",
       "71  Millennial    260,000 - 359,999      Two month payment delay   \n",
       "\n",
       "0              Repayment August  ... May consumption June consumption  \\\n",
       "13      Two month payment delay  ...         33645.0           1919.0   \n",
       "23               No consumption  ...           560.0           1473.0   \n",
       "50      Two month payment delay  ...           764.0            932.0   \n",
       "60  The use of revolving credit  ...          2110.0           4941.0   \n",
       "71      Two month payment delay  ...          1115.0           1562.0   \n",
       "\n",
       "0  July consumption August consumption  Average monthly consumption  \\\n",
       "13           1668.0             1633.0                       7921.6   \n",
       "23          19420.0             5520.0                       5394.6   \n",
       "50            916.0              871.0                        856.0   \n",
       "60           6060.0              726.0                       2818.6   \n",
       "71           1562.0             1521.0                       1388.2   \n",
       "\n",
       "0                                 Months to repayment  Payback possible  \\\n",
       "13  Repayment less than consumption, need to reduc...             False   \n",
       "23  Repayment less than consumption, need to reduc...             False   \n",
       "50                                            74.9838             False   \n",
       "60  Repayment less than consumption, need to reduc...             False   \n",
       "71                                            63.9033             False   \n",
       "\n",
       "0    limits  Prediction  Decrease credit limit  \n",
       "13   100000       50000                   True  \n",
       "23  1000000      200000                   True  \n",
       "50   100000       50000                   True  \n",
       "60  1000000      150000                   True  \n",
       "71  1000000       50000                   True  \n",
       "\n",
       "[5 rows x 38 columns]"
      ]
     },
     "execution_count": 43,
     "metadata": {},
     "output_type": "execute_result"
    }
   ],
   "source": [
    "reduce_client_credit_limit.head()"
   ]
  },
  {
   "cell_type": "markdown",
   "metadata": {},
   "source": [
    "### Is a customer going to default or not?"
   ]
  },
  {
   "cell_type": "markdown",
   "metadata": {},
   "source": [
    "We can input an example to check whether our model thinks someone is likely to default or not.\n",
    "\n",
    "SEX_dict = {'female': 0,\n",
    "           'male':1}\n",
    "EDUCATION_dict = {'other' : 0,\n",
    "                  'graduate school' : 1,\n",
    "                  'university' :2,\n",
    "                  'high school' : 3}\n",
    "MARRIAGE_dict = {'others' : 0,\n",
    "                 'married' : 1,\n",
    "                 'single' : 2,        \n",
    "                 'divorce' : 3}"
   ]
  },
  {
   "cell_type": "code",
   "execution_count": 49,
   "metadata": {
    "ExecuteTime": {
     "end_time": "2023-07-11T13:50:01.424209Z",
     "start_time": "2023-07-11T13:50:01.409588Z"
    },
    "code_folding": [
     1
    ]
   },
   "outputs": [],
   "source": [
    "def default_prediction_model_4(age,credit_limit,education,marriage,sex):\n",
    "    df_indep_vars = pd.DataFrame({'AGE':[age],\n",
    "                                  'LIMIT_BAL':[credit_limit],\n",
    "                                  'EDUCATION':[education],\n",
    "                                  'MARRIAGE':[marriage],\n",
    "                                 'SEX':[sex]})\n",
    "    prediction_of_customer = model_4.predict(df_indep_vars)\n",
    "    return print(prediction_of_customer)\n",
    "        "
   ]
  },
  {
   "cell_type": "code",
   "execution_count": 51,
   "metadata": {
    "ExecuteTime": {
     "end_time": "2023-07-11T13:50:29.330970Z",
     "start_time": "2023-07-11T13:50:29.288398Z"
    }
   },
   "outputs": [
    {
     "name": "stdout",
     "output_type": "stream",
     "text": [
      "Example 1: Is a customer who is; 61 years old, $100,000 credit limit, married, graduate school educated and female likely to default?.\n",
      "[ True]\n"
     ]
    }
   ],
   "source": [
    "print(\"Example 1: Is a customer who is; 61 years old, $100,000 credit limit, married, graduate school educated and female likely to default?.\")\n",
    "default_prediction_model_4(61,100000,1,1,0)"
   ]
  },
  {
   "cell_type": "markdown",
   "metadata": {},
   "source": [
    "### What should a customers maximum credit limit be?"
   ]
  },
  {
   "cell_type": "code",
   "execution_count": 46,
   "metadata": {
    "ExecuteTime": {
     "end_time": "2023-07-11T13:39:31.251997Z",
     "start_time": "2023-07-11T13:39:31.238616Z"
    }
   },
   "outputs": [],
   "source": [
    "def credit_limit_prediction_model(age,sex,education,marriage):\n",
    "    df_indep_vars_lim = pd.DataFrame({'AGE':[age],\n",
    "                                 'SEX':[sex],\n",
    "                                 'EDUCATION': [education],\n",
    "                                 'MARRIAGE': [marriage]})\n",
    "    limit_prediction_of_customer = model_cred_lim_bracket.predict(df_indep_vars_lim)\n",
    "    return print(limit_prediction_of_customer)\n",
    "        "
   ]
  },
  {
   "cell_type": "code",
   "execution_count": 47,
   "metadata": {
    "ExecuteTime": {
     "end_time": "2023-07-11T13:39:31.282828Z",
     "start_time": "2023-07-11T13:39:31.255526Z"
    }
   },
   "outputs": [
    {
     "name": "stdout",
     "output_type": "stream",
     "text": [
      "Example 2: 31 years old, female, married, grad school.\n",
      "[1000000]\n"
     ]
    }
   ],
   "source": [
    "print(\"Example 2: What should the maximum credit limit be for a customer who is 31 years old, female, married, grad school educated?\")\n",
    "credit_limit_prediction_model(31,0,1,1)"
   ]
  }
 ],
 "metadata": {
  "kernelspec": {
   "display_name": "Python 3",
   "language": "python",
   "name": "python3"
  },
  "language_info": {
   "codemirror_mode": {
    "name": "ipython",
    "version": 3
   },
   "file_extension": ".py",
   "mimetype": "text/x-python",
   "name": "python",
   "nbconvert_exporter": "python",
   "pygments_lexer": "ipython3",
   "version": "3.8.5"
  },
  "toc": {
   "base_numbering": 1,
   "nav_menu": {},
   "number_sections": true,
   "sideBar": true,
   "skip_h1_title": false,
   "title_cell": "Table of Contents",
   "title_sidebar": "Contents",
   "toc_cell": false,
   "toc_position": {
    "height": "calc(100% - 180px)",
    "left": "10px",
    "top": "150px",
    "width": "383.991px"
   },
   "toc_section_display": true,
   "toc_window_display": true
  },
  "varInspector": {
   "cols": {
    "lenName": 16,
    "lenType": 16,
    "lenVar": 40
   },
   "kernels_config": {
    "python": {
     "delete_cmd_postfix": "",
     "delete_cmd_prefix": "del ",
     "library": "var_list.py",
     "varRefreshCmd": "print(var_dic_list())"
    },
    "r": {
     "delete_cmd_postfix": ") ",
     "delete_cmd_prefix": "rm(",
     "library": "var_list.r",
     "varRefreshCmd": "cat(var_dic_list()) "
    }
   },
   "types_to_exclude": [
    "module",
    "function",
    "builtin_function_or_method",
    "instance",
    "_Feature"
   ],
   "window_display": false
  }
 },
 "nbformat": 4,
 "nbformat_minor": 4
}
